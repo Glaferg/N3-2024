{
 "cells": [
  {
   "cell_type": "code",
   "execution_count": 1,
   "id": "89f20f22-a546-4354-a598-4cbd87febda5",
   "metadata": {},
   "outputs": [],
   "source": [
    "%matplotlib inline \n",
    "import numpy as np \n",
    "from matplotlib import pyplot as plt \n",
    "import h5py # used in the Data Visualization section \n",
    "\n",
    "from astropy.io import fits,ascii,votable\n",
    "from astropy import units as u \n",
    "from astropy import constants as const\n",
    "from astropy import table\n",
    "from astropy.cosmology import Planck15,FlatLambdaCDM\n",
    "\n",
    "# For ML application\n",
    "from sklearn.cluster import KMeans\n",
    "from sklearn import mixture\n",
    "from itertools import combinations\n",
    "import pandas"
   ]
  },
  {
   "cell_type": "code",
   "execution_count": 2,
   "id": "01fd320e-0749-4504-8f24-e243a348253b",
   "metadata": {},
   "outputs": [],
   "source": [
    "# Specify the version of the catalog and the folder with the input/output files\n",
    "catversion = 'Farmer'  # this string can be either 'Classic' or 'Farmer'\n",
    "dir_in = '/Users/gabriel/Documents/N3_code/COSMOS2020.R1_v2.2-nochi2/'  \n",
    "dir_out = 'experiment_notebook_output/'  # the directory where the output of this notebook will be stored"
   ]
  },
  {
   "cell_type": "code",
   "execution_count": 3,
   "id": "9f353b6b-13ed-4011-b154-b12598bd515e",
   "metadata": {},
   "outputs": [],
   "source": [
    "# Chose the SED fitting code: \n",
    "# set to 'lp' for LePhare results or\n",
    "# set to 'ez' for EAZY\n",
    "fitversion = 'ez'  "
   ]
  },
  {
   "cell_type": "code",
   "execution_count": 4,
   "id": "b640bad6-d317-4259-978f-4f2e117a0b79",
   "metadata": {},
   "outputs": [],
   "source": [
    "# Which type of photometric estimates to use? (suffix of the column name)\n",
    "# This choice must be consistent with `catversion`,\n",
    "# choices for Classic are: '_FLUX_APER2', '_FLUX_APER3', '_MAG_APER2,', '_MAG_APER3'\n",
    "# choices for Farmer are '_FLUX' or '_MAG' \n",
    "flx = '_FLUX'  \n",
    "flxerr = '_FLUXERR'  # catalog column for flux/mag error, just add 'ERR'\n",
    "outflx = 'cgs' # 'cgs' or 'uJy'"
   ]
  },
  {
   "cell_type": "markdown",
   "id": "16e05d9a-b648-4617-8d8e-0a418cedc441",
   "metadata": {},
   "source": [
    "There are several pararemeters regarding the telescope filters used for observations. They are collectively stored in a dictionary. "
   ]
  },
  {
   "cell_type": "code",
   "execution_count": 5,
   "id": "683cb73b-66db-4d85-a638-fd868b0b5f84",
   "metadata": {},
   "outputs": [],
   "source": [
    "# Filter names, mean wavelength, and other info (see Table 1 in W+21)\n",
    "filt_name = ['GALEX_FUV', 'GALEX_NUV','CFHT_u','CFHT_ustar','HSC_g', 'HSC_r', 'HSC_i', 'HSC_z', 'HSC_y', 'UVISTA_Y', 'UVISTA_J', 'UVISTA_H', 'UVISTA_Ks', 'SC_IB427', 'SC_IB464', 'SC_IA484', 'SC_IB505', 'SC_IA527', 'SC_IB574', 'SC_IA624', 'SC_IA679', 'SC_IB709', 'SC_IA738', 'SC_IA767', 'SC_IB827', 'SC_NB711', 'SC_NB816', 'UVISTA_NB118', 'SC_B', 'SC_gp', 'SC_V', 'SC_rp', 'SC_ip','SC_zp', 'SC_zpp', 'IRAC_CH1', 'IRAC_CH2', 'IRAC_CH3','IRAC_CH4']  \n",
    "filt_lambda = [0.1526,0.2307,0.3709,0.3858,0.4847,0.6219,0.7699,0.8894,0.9761,1.0216,1.2525,1.6466,2.1557,0.4266,0.4635,0.4851,0.5064,0.5261,0.5766,0.6232,0.6780,0.7073,0.7361,0.7694,0.8243,0.7121,0.8150,1.1909,0.4488,0.4804,0.5487,0.6305,0.7693,0.8978,0.9063,3.5686,4.5067,5.7788,7.9958]\n",
    "filt_fwhm = [0.0224,0.07909,0.05181,0.05976,0.1383,0.1547,0.1471,0.0766,0.0786,0.0923,0.1718,0.2905,0.3074,0.02073,0.02182,0.02292,0.0231,0.02429,0.02729,0.03004,0.03363,0.03163,0.03235,0.03648,0.0343,0.0072,0.01198,0.01122,0.0892,0.1265,0.0954,0.1376,0.1497,0.0847,0.1335,0.7443,1.0119,1.4082,2.8796] \n",
    "# corresponding MW attenuation from Schelgel \n",
    "AlambdaDivEBV = [8.31,8.742,4.807,4.674,3.69,2.715,2.0,1.515,1.298,1.213,0.874,0.565,0.365,4.261,3.844,3.622,3.425,3.265,2.938,2.694,2.431,2.29,2.151,1.997,1.748,2.268,1.787,0.946,4.041,3.738,3.128,2.673,2.003,1.436,1.466,0.163,0.112,0.075,0.045]\n",
    "# photometric offsets (not available for all filters, see Table 3 in W+21)\n",
    "zpoff1 = [0.000,-0.352,-0.077,-0.023,0.073,0.101,0.038,0.036,0.086,0.054,0.017,-0.045,0.000,-0.104,-0.044,-0.021,-0.018,-0.045,-0.084,0.005,0.166,-0.023,-0.034,-0.032,-0.069,-0.010,-0.064,0.000,0.000,0.000,0.000,0.000,0.000,0.000,0.000,-0.212,-0.219,0.000,0.000]  # Farmer+LePhare\n",
    "zpoff2 = [0.000,-0.029,-0.006,0.053,0.128,0.127,0.094,0.084,0.100,0.049,0.025,-0.044,0.000,-0.013,-0.008,0.022,0.025,0.033,-0.032,0.031,0.208,-0.009,0.003,-0.015,-0.001,0.023,-0.021,-0.017,-0.075,0.000,0.123,0.035,0.051,0.000,0.095,-0.087,-0.111,0.000,0.000]  # Classic+LePhare\n",
    "zpoff3 = [0.000,0.000,-0.196,-0.054,0.006,0.090,0.043,0.071,0.118,0.078,0.047,-0.034,0.000,-0.199,-0.129,-0.084,-0.073,-0.087,-0.124,0.004,0.154,-0.022,-0.030,-0.013,-0.057,0.000,0.000,0.000,0.000,0.000,0.000,0.000,0.000,0.000,0.000,-0.102,-0.044,0.000,0.000] # Farmer+EAZY\n",
    "zpoff4 = [0.000,0.000,0.000,-0.021,0.055,0.124,0.121,0.121,0.145,0.085,0.057,-0.036,0.000,-0.133,-0.098,-0.046,-0.037,-0.038,-0.062,0.038,0.214,0.024,0.022,0.01,0.022,0.000,0.000,0.00,0.00,0.00,0.00,0.00,0.00,0.00,0.00,0.021,0.025,0.000,0.000] # Classic+EAZY\n",
    "# create the dictionary\n",
    "filt_dict = {filt_name[i]:(filt_lambda[i]*1e4,filt_fwhm[i]*1e4,AlambdaDivEBV[i],[zpoff1[i],zpoff2[i],zpoff3[i],zpoff4[i]]) for i in range(len(filt_name))}"
   ]
  },
  {
   "cell_type": "markdown",
   "id": "a950d873-cb69-414f-9df2-16f5c2d8b048",
   "metadata": {},
   "source": [
    "--------------------\n",
    "## Data preparation\n",
    "\n",
    "This section includes corrections due to Milky Way foreground extinction, photometric offsets, and flux loss in case of aperture photometry. Here, a subsample of the catalogue (either by rows or columns) can also be selected, and the table re-formatted to be saved as a different file."
   ]
  },
  {
   "cell_type": "code",
   "execution_count": 6,
   "id": "6904288b-4bef-450e-b7fa-3760aaf83939",
   "metadata": {},
   "outputs": [
    {
     "name": "stderr",
     "output_type": "stream",
     "text": [
      "WARNING: UnitsWarning: 'log(solMass)' did not parse as fits unit: 'log' is not a recognized function If this is meant to be a custom unit, define it with 'u.def_unit'. To have it recognized inside a file reader or other code, enable it with 'u.add_enabled_units'. For details, see https://docs.astropy.org/en/latest/units/combining_and_defining.html [astropy.units.core]\n",
      "WARNING: UnitsWarning: 'log(solMass/yr)' did not parse as fits unit: 'log' is not a recognized function If this is meant to be a custom unit, define it with 'u.def_unit'. To have it recognized inside a file reader or other code, enable it with 'u.add_enabled_units'. For details, see https://docs.astropy.org/en/latest/units/combining_and_defining.html [astropy.units.core]\n",
      "WARNING: UnitsWarning: 'log(yr**(-1))' did not parse as fits unit: 'log' is not a recognized function If this is meant to be a custom unit, define it with 'u.def_unit'. To have it recognized inside a file reader or other code, enable it with 'u.add_enabled_units'. For details, see https://docs.astropy.org/en/latest/units/combining_and_defining.html [astropy.units.core]\n",
      "WARNING: UnitsWarning: 'log(solLum)' did not parse as fits unit: 'log' is not a recognized function If this is meant to be a custom unit, define it with 'u.def_unit'. To have it recognized inside a file reader or other code, enable it with 'u.add_enabled_units'. For details, see https://docs.astropy.org/en/latest/units/combining_and_defining.html [astropy.units.core]\n"
     ]
    }
   ],
   "source": [
    "# Upload the main catalogue\n",
    "cat0 = table.Table.read(dir_in+'COSMOS2020_{}_R1_v2.2_p3.fits'.format(catversion.upper()),format='fits',hdu=1)"
   ]
  },
  {
   "cell_type": "code",
   "execution_count": 7,
   "id": "25993b6c-8f07-476c-8708-ca3df98397d7",
   "metadata": {},
   "outputs": [],
   "source": [
    "# Create a mask to restrict the analysis to a subset of filters (optional)\n",
    "# filt_use = ['CFHT_ustar', 'CFHT_u', 'HSC_g', 'HSC_r', 'HSC_i', 'HSC_z', 'HSC_y', 'UVISTA_Y', 'UVISTA_J', 'UVISTA_H', 'UVISTA_Ks', 'IRAC_CH1', 'IRAC_CH2']\n",
    "# filt_mask = [i in filt_use for i in filt_name]\n",
    "\n",
    "#to turn off filter:\n",
    "filt_use = ['CFHT_ustar', 'CFHT_u', 'HSC_g', 'HSC_r', 'HSC_i', 'HSC_z', 'HSC_y', 'UVISTA_Y', 'UVISTA_J', 'UVISTA_H', 'UVISTA_Ks', 'IRAC_CH1', 'IRAC_CH2']\n",
    "filt_mask = []"
   ]
  },
  {
   "cell_type": "code",
   "execution_count": 8,
   "id": "37b1fc78-8caa-4fb6-9d97-c20930a0dc9e",
   "metadata": {},
   "outputs": [
    {
     "data": {
      "text/plain": [
       "<TableColumns names=('ID','ALPHA_J2000','DELTA_J2000','X_MODEL','Y_MODEL','ERRX_MODEL','ERRY_MODEL','ALPHA_DETECTION','DELTA_DETECTION','FARMER_ID','GROUP_ID','N_GROUP','MODEL_FLAG','SOLUTION_MODEL','FLAG_HSC','FLAG_SUPCAM','FLAG_UDEEP','FLAG_UVISTA','FLAG_COMBINED','EBV_MW','CFHT_u_FLUX','CFHT_u_FLUXERR','CFHT_u_MAG','CFHT_u_MAGERR','CFHT_u_CHISQ','CFHT_u_DRIFT','CFHT_u_VALID','CFHT_ustar_FLUX','CFHT_ustar_FLUXERR','CFHT_ustar_MAG','CFHT_ustar_MAGERR','CFHT_ustar_CHISQ','CFHT_ustar_DRIFT','CFHT_ustar_VALID','HSC_g_FLUX','HSC_g_FLUXERR','HSC_g_MAG','HSC_g_MAGERR','HSC_g_CHISQ','HSC_g_DRIFT','HSC_g_VALID','HSC_r_FLUX','HSC_r_FLUXERR','HSC_r_MAG','HSC_r_MAGERR','HSC_r_CHISQ','HSC_r_DRIFT','HSC_r_VALID','HSC_i_FLUX','HSC_i_FLUXERR','HSC_i_MAG','HSC_i_MAGERR','HSC_i_CHISQ','HSC_i_DRIFT','HSC_i_VALID','HSC_z_FLUX','HSC_z_FLUXERR','HSC_z_MAG','HSC_z_MAGERR','HSC_z_CHISQ','HSC_z_DRIFT','HSC_z_VALID','HSC_y_FLUX','HSC_y_FLUXERR','HSC_y_MAG','HSC_y_MAGERR','HSC_y_CHISQ','HSC_y_DRIFT','HSC_y_VALID','UVISTA_Y_FLUX','UVISTA_Y_FLUXERR','UVISTA_Y_MAG','UVISTA_Y_MAGERR','UVISTA_Y_CHISQ','UVISTA_Y_DRIFT','UVISTA_Y_VALID','UVISTA_J_FLUX','UVISTA_J_FLUXERR','UVISTA_J_MAG','UVISTA_J_MAGERR','UVISTA_J_CHISQ','UVISTA_J_DRIFT','UVISTA_J_VALID','UVISTA_H_FLUX','UVISTA_H_FLUXERR','UVISTA_H_MAG','UVISTA_H_MAGERR','UVISTA_H_CHISQ','UVISTA_H_DRIFT','UVISTA_H_VALID','UVISTA_Ks_FLUX','UVISTA_Ks_FLUXERR','UVISTA_Ks_MAG','UVISTA_Ks_MAGERR','UVISTA_Ks_CHISQ','UVISTA_Ks_DRIFT','UVISTA_Ks_VALID','UVISTA_NB118_FLUX','UVISTA_NB118_FLUXERR','UVISTA_NB118_MAG','UVISTA_NB118_MAGERR','UVISTA_NB118_CHISQ','UVISTA_NB118_DRIFT','UVISTA_NB118_VALID','SC_IB427_FLUX','SC_IB427_FLUXERR','SC_IB427_MAG','SC_IB427_MAGERR','SC_IB427_CHISQ','SC_IB427_DRIFT','SC_IB427_VALID','SC_IB464_FLUX','SC_IB464_FLUXERR','SC_IB464_MAG','SC_IB464_MAGERR','SC_IB464_CHISQ','SC_IB464_DRIFT','SC_IB464_VALID','SC_IA484_FLUX','SC_IA484_FLUXERR','SC_IA484_MAG','SC_IA484_MAGERR','SC_IA484_CHISQ','SC_IA484_DRIFT','SC_IA484_VALID','SC_IB505_FLUX','SC_IB505_FLUXERR','SC_IB505_MAG','SC_IB505_MAGERR','SC_IB505_CHISQ','SC_IB505_DRIFT','SC_IB505_VALID','SC_IA527_FLUX','SC_IA527_FLUXERR','SC_IA527_MAG','SC_IA527_MAGERR','SC_IA527_CHISQ','SC_IA527_DRIFT','SC_IA527_VALID','SC_IB574_FLUX','SC_IB574_FLUXERR','SC_IB574_MAG','SC_IB574_MAGERR','SC_IB574_CHISQ','SC_IB574_DRIFT','SC_IB574_VALID','SC_IA624_FLUX','SC_IA624_FLUXERR','SC_IA624_MAG','SC_IA624_MAGERR','SC_IA624_CHISQ','SC_IA624_DRIFT','SC_IA624_VALID','SC_IA679_FLUX','SC_IA679_FLUXERR','SC_IA679_MAG','SC_IA679_MAGERR','SC_IA679_CHISQ','SC_IA679_DRIFT','SC_IA679_VALID','SC_IB709_FLUX','SC_IB709_FLUXERR','SC_IB709_MAG','SC_IB709_MAGERR','SC_IB709_CHISQ','SC_IB709_DRIFT','SC_IB709_VALID','SC_IA738_FLUX','SC_IA738_FLUXERR','SC_IA738_MAG','SC_IA738_MAGERR','SC_IA738_CHISQ','SC_IA738_DRIFT','SC_IA738_VALID','SC_IA767_FLUX','SC_IA767_FLUXERR','SC_IA767_MAG','SC_IA767_MAGERR','SC_IA767_CHISQ','SC_IA767_DRIFT','SC_IA767_VALID','SC_IB827_FLUX','SC_IB827_FLUXERR','SC_IB827_MAG','SC_IB827_MAGERR','SC_IB827_CHISQ','SC_IB827_DRIFT','SC_IB827_VALID','SC_NB711_FLUX','SC_NB711_FLUXERR','SC_NB711_MAG','SC_NB711_MAGERR','SC_NB711_CHISQ','SC_NB711_DRIFT','SC_NB711_VALID','SC_NB816_FLUX','SC_NB816_FLUXERR','SC_NB816_MAG','SC_NB816_MAGERR','SC_NB816_CHISQ','SC_NB816_DRIFT','SC_NB816_VALID','IRAC_CH1_FLUX','IRAC_CH1_FLUXERR','IRAC_CH1_MAG','IRAC_CH1_MAGERR','IRAC_CH1_CHISQ','IRAC_CH1_DRIFT','IRAC_CH1_VALID','IRAC_CH2_FLUX','IRAC_CH2_FLUXERR','IRAC_CH2_MAG','IRAC_CH2_MAGERR','IRAC_CH2_CHISQ','IRAC_CH2_DRIFT','IRAC_CH2_VALID','IRAC_CH3_FLUX','IRAC_CH3_FLUXERR','IRAC_CH3_MAG','IRAC_CH3_MAGERR','IRAC_CH3_CHISQ','IRAC_CH3_DRIFT','IRAC_CH3_VALID','IRAC_CH4_FLUX','IRAC_CH4_FLUXERR','IRAC_CH4_MAG','IRAC_CH4_MAGERR','IRAC_CH4_CHISQ','IRAC_CH4_DRIFT','IRAC_CH4_VALID','ID_GALEX','GALEX_NUV_FLUX','GALEX_NUV_FLUXERR','GALEX_NUV_MAG','GALEX_NUV_MAGERR','GALEX_FUV_FLUX','GALEX_FUV_FLUXERR','GALEX_FUV_MAG','GALEX_FUV_MAGERR','ID_COSMOS2015','SPLASH_CH1_FLUX','SPLASH_CH1_FLUXERR','SPLASH_CH1_MAG','SPLASH_CH1_MAGERR','SPLASH_CH2_FLUX','SPLASH_CH2_FLUXERR','SPLASH_CH2_MAG','SPLASH_CH2_MAGERR','SPLASH_CH3_FLUX','SPLASH_CH3_FLUXERR','SPLASH_CH3_MAG','SPLASH_CH3_MAGERR','SPLASH_CH4_FLUX','SPLASH_CH4_FLUXERR','SPLASH_CH4_MAG','SPLASH_CH4_MAGERR','ID_ACS','ACS_F814W_MAG','ACS_F814W_MAGERR','ACS_F814W_FLUX','ACS_F814W_FLUXERR','ACS_A_WORLD','ACS_B_WORLD','ACS_THETA_WORLD','ACS_FWHM_WORLD','ACS_MU_MAX','ACS_MU_CLASS','ID_CHANDRA','ID_CLASSIC','lp_zBEST','lp_type','lp_zPDF','lp_zPDF_l68','lp_zPDF_u68','lp_zMinChi2','lp_chi2_best','lp_zp_2','lp_chi2_2','lp_NbFilt','lp_zq','lp_chiq','lp_modq','lp_mods','lp_chis','lp_mask','lp_model','lp_age','lp_dust','lp_Attenuation','lp_MFUV','lp_MNUV','lp_MU','lp_MG','lp_MR','lp_MI','lp_MZ','lp_MY','lp_MJ','lp_MH','lp_MK','lp_mass_med','lp_mass_med_min68','lp_mass_med_max68','lp_mass_best','lp_SFR_med','lp_SFR_med_min68','lp_SFR_med_max68','lp_SFR_best','lp_sSFR_med','lp_sSFR_med_min68','lp_sSFR_med_max68','lp_sSFR_best','ez_z_phot','ez_z_phot_chi2','ez_z_phot_risk','ez_z_min_risk','ez_min_risk','ez_z_raw_chi2','ez_raw_chi2','ez_z025','ez_z160','ez_z500','ez_z840','ez_z975','ez_nusefilt','ez_lc_min','ez_lc_max','ez_star_min_chi2','ez_star_teff','ez_restU','ez_restU_err','ez_restB','ez_restB_err','ez_restV','ez_restV_err','ez_restJ','ez_restJ_err','ez_dL','ez_mass','ez_sfr','ez_ssfr','ez_Lv','ez_LIR','ez_energy_abs','ez_Lu','ez_Lj','ez_L1400','ez_L2800','ez_LHa','ez_LOIII','ez_LHb','ez_LOII','ez_MLv','ez_Av','ez_lwAgeV','ez_mass_p025','ez_mass_p160','ez_mass_p500','ez_mass_p840','ez_mass_p975','ez_sfr_p025','ez_sfr_p160','ez_sfr_p500','ez_sfr_p840','ez_sfr_p975','ez_Lv_p025','ez_Lv_p160','ez_Lv_p500','ez_Lv_p840','ez_Lv_p975','ez_LIR_p025','ez_LIR_p160','ez_LIR_p500','ez_LIR_p840','ez_LIR_p975','ez_energy_abs_p025','ez_energy_abs_p160','ez_energy_abs_p500','ez_energy_abs_p840','ez_energy_abs_p975','ez_Lu_p025','ez_Lu_p160','ez_Lu_p500','ez_Lu_p840','ez_Lu_p975','ez_Lj_p025','ez_Lj_p160','ez_Lj_p500','ez_Lj_p840','ez_Lj_p975','ez_L1400_p025','ez_L1400_p160','ez_L1400_p500','ez_L1400_p840','ez_L1400_p975','ez_L2800_p025','ez_L2800_p160','ez_L2800_p500','ez_L2800_p840','ez_L2800_p975','ez_LHa_p025','ez_LHa_p160','ez_LHa_p500','ez_LHa_p840','ez_LHa_p975','ez_LOIII_p025','ez_LOIII_p160','ez_LOIII_p500','ez_LOIII_p840','ez_LOIII_p975','ez_LHb_p025','ez_LHb_p160','ez_LHb_p500','ez_LHb_p840','ez_LHb_p975','ez_LOII_p025','ez_LOII_p160','ez_LOII_p500','ez_LOII_p840','ez_LOII_p975','ez_ssfr_p025','ez_ssfr_p160','ez_ssfr_p500','ez_ssfr_p840','ez_ssfr_p975','ez_Av_p025','ez_Av_p160','ez_Av_p500','ez_Av_p840','ez_Av_p975')>"
      ]
     },
     "execution_count": 8,
     "metadata": {},
     "output_type": "execute_result"
    }
   ],
   "source": [
    "# Have a quick look inside the table\n",
    "cat0[[0,-1]]\n",
    "cat0.columns"
   ]
  },
  {
   "cell_type": "markdown",
   "id": "d45d2750-7ae7-4be3-8091-1f6c87a41442",
   "metadata": {},
   "source": [
    "### Flags (rows selection)\n",
    "\n",
    "Flags are used to (de-)select certain areas of the $2\\,deg^2$ COSMOS field. For example, by imposing `FLAG_HSC`equal to zero, only objects within the effective area of Subaru/HyperSuprimeCam are selected (i.e., observed by HSC and outside bright star regions). \n",
    "\n",
    "The **most important flag** is `FLAG_COMBINED` to remove areas with either unreliable photometry or partial coverage. We strongly recommend to set `FLAG_COMBINED==0` before starting your analysis. \n",
    "\n",
    "Please also note that the format of photometric columns (fluxes, magnitudes) is  **masked columns**, useful to single out certain entries from the table."
   ]
  },
  {
   "cell_type": "code",
   "execution_count": 9,
   "id": "c301290e-dacd-4452-b04d-6c7b0da76e47",
   "metadata": {
    "editable": true,
    "slideshow": {
     "slide_type": ""
    },
    "tags": []
   },
   "outputs": [
    {
     "name": "stdout",
     "output_type": "stream",
     "text": [
      "The parent sample includes 964506 sources\n",
      "Now restricted to 746976 sources by using FLAG_COMBINED\n"
     ]
    }
   ],
   "source": [
    "whichflag = 'COMBINED'  # you can try HSC, SUPCAM, UVISTA, UDEEP, COMBINED\n",
    "print('The parent sample includes {} sources'.format(len(cat0)))\n",
    "cat0 = cat0[cat0['FLAG_{}'.format(whichflag)]==0]\n",
    "print('Now restricted to {} sources by using FLAG_COMBINED'.format(len(cat0)))"
   ]
  },
  {
   "cell_type": "markdown",
   "id": "281925db-3f4b-47d6-88a3-85a5e42ef66e",
   "metadata": {},
   "source": [
    "### Correcting for MW extinction\n",
    "\n",
    "The following two cells remove the foreground extinction by the Milky Way (MW)."
   ]
  },
  {
   "cell_type": "code",
   "execution_count": 10,
   "id": "40a170fc-c8ed-4153-9590-d6ab66a791e3",
   "metadata": {},
   "outputs": [],
   "source": [
    "def mw_corr(tab_in,f_dict,ebv_col='EBV_MW',flx_col='_FLUX',flxerr_col='_FLUXERR',only_filt=[],skip_filt=[],verbose=False,out=False):\n",
    "    \"\"\"\n",
    "    Parameters\n",
    "    ----------\n",
    "    tab_in : astropy table of COSMOS2020\n",
    "    f_dict : dictionary with filter info\n",
    "    ebv_col : name of the `tab_in` column containing the E(B-V) from Milky Way\n",
    "    flx_col : name of the `tab_in` column containing the flux\n",
    "    flxerr_col : name of the `tab_in` column containing the flux error bar\n",
    "    only_filt : list of the filters to be processed (filter names as in `f_dict`)\n",
    "    skip_filt : list of the filters NOT to be processed (filter names as in `f_dict`)\n",
    "    verbose : if True, print a verbose output\n",
    "    out : if True, return a new table with the changes; if False, overwrite `tab_in`\n",
    "    \"\"\"\n",
    "    \n",
    "    if 'FLUX' in flx_col: flux=True\n",
    "    else: flux=False\n",
    "    if out: tab = tab_in.copy()\n",
    "    else: tab = tab_in\n",
    "    ff = f_dict.keys()\n",
    "    if len(only_filt)>0 : ff = only_filt\n",
    "    for c in ff:\n",
    "        if verbose: print('remove MW attenuation in ',c+flx_col,f_dict[c][2])\n",
    "        if c not in skip_filt:\n",
    "            atten = f_dict[c][2]*tab[ebv_col]\n",
    "            if flux:    tab[c+flx_col] *= np.power(10.,0.4*atten)\n",
    "            else:    tab[c+flx_col] -= atten             \n",
    "        else:\n",
    "            if verbose: print('Skip filter',c)       \n",
    "    if out: return tab"
   ]
  },
  {
   "cell_type": "code",
   "execution_count": 11,
   "id": "9a76968a-ae9e-4264-b488-52606dd87b4b",
   "metadata": {
    "scrolled": true
   },
   "outputs": [],
   "source": [
    "# Here, the function creates a new table but\n",
    "# it is also possible to overwrite the original table `cat0`\n",
    "if catversion.lower()=='classic' and flx!='_FLUX' and flx!='_MAG':  \n",
    "    # it means you are using aperture or AUTO flux/mag, which are not available for IRAC and GALEX \n",
    "    cat1 = mw_corr(cat0,filt_dict,flx_col=flx,flxerr_col=flxerr,only_filt=filt_use,skip_filt=['IRAC_CH1', 'IRAC_CH2', 'GALEX_FUV', 'GALEX_NUV'],out=True) # fluxes are  in uJy (zero point = 23.9)\n",
    "    # therefore, IRAC and GALEX have to be taken into account separately:\n",
    "    mw_corr(cat1,filt_dict,flx_col='_FLUX',flxerr_col='_FLUXERR',only_filt=['IRAC_CH1', 'IRAC_CH2', 'GALEX_FUV', 'GALEX_NUV']) \n",
    "else:\n",
    "    # otherwise, all filters have the same suffix\n",
    "    cat1 = mw_corr(cat0,filt_dict,flx_col=flx,flxerr_col=flxerr,only_filt=filt_use,out=True)  # all bands have same column suffix"
   ]
  },
  {
   "cell_type": "markdown",
   "id": "9dfdced2-e2f8-48d4-baaa-aeb41cbda2e7",
   "metadata": {
    "editable": true,
    "slideshow": {
     "slide_type": ""
    },
    "tags": []
   },
   "source": [
    "### Correcting for aperture-to-total flux\n",
    "\n",
    "Circular aperture flux, available only in the *Classic* catalog, can be converted to total flux using a rescaling factor derived for each source from its APER-to-AUTO ratio."
   ]
  },
  {
   "cell_type": "code",
   "execution_count": 12,
   "id": "66539267-ff54-4619-8675-21dd2d7181f9",
   "metadata": {},
   "outputs": [],
   "source": [
    "def aper_to_tot(tab_in,f_dict,flx_col='_FLUX',flxerr_col='_FLUXERR',scale_col='',out_col=None,only_filt=[],skip_filt=[],verbose=False,out=False):\n",
    "    \"\"\"\n",
    "    Parameters\n",
    "    ----------\n",
    "    tab_in : astropy table of COSMOS2020\n",
    "    f_dict : dictionary with filter info \n",
    "    flx_col : name of the `tab_in` column containing the flux\n",
    "    flxerr_col : name of the `tab_in` column containing the flux error bar\n",
    "    scale_col : name of the `tab_in` column containing the aper-to-total correction\n",
    "    out_col : if defined, the rescaled photometry will be saved in a new column (otherwise it overwrites `flx_col`)\n",
    "    only_filt : list of the filters to be processed (filter names as in `f_dict`)\n",
    "    skip_filt : list of the filters NOT to be processed (filter names as in `f_dict`)\n",
    "    verbose : if True, print a verbose output\n",
    "    out : if True, return a new table with the changes; if False, overwrite `tab_in`  \n",
    "    \"\"\"\n",
    "    \n",
    "    if 'FLUX' in flx_col: flux=True\n",
    "    else: flux=False\n",
    "    if out: tab = tab_in.copy()\n",
    "    else: tab = tab_in \n",
    "    ff = f_dict.keys()\n",
    "    if len(only_filt)>0 : ff = only_filt\n",
    "    for c in ff:\n",
    "        if c not in skip_filt:\n",
    "\n",
    "            if verbose and flux: print('rescale {} to total flux'.format(c+flx_col))\n",
    "            if verbose and not flux: print('rescale {} to total mag'.format(c+flx_col))\n",
    "\n",
    "            if flux:\n",
    "                resc = np.power(10.,-0.4*tab[scale_col])\n",
    "                if out_col:\n",
    "                    tab[c+out_col] = tab[c+flx_col] * resc\n",
    "                    tab[c+out_col+'ERR'] = tab[c+flxerr_col] * resc  # rescale also error bars not to alter the S/N ratio\n",
    "                else:\n",
    "                    tab[c+flx_col] *= resc\n",
    "                    tab[c+flxerr_col] *= resc\n",
    "            else:\n",
    "                if out_col:\n",
    "                    tab[c+out_col] = tab[c+flx_col] + tab[scale_col] \n",
    "                else:\n",
    "                    tab[c+flx_col] += tab[scale_col]             \n",
    "        else:\n",
    "            if verbose: print('Skip filter',c)       \n",
    "    if out: return tab\n",
    "    "
   ]
  },
  {
   "cell_type": "code",
   "execution_count": 13,
   "id": "ac33f898-0607-4e1e-879e-a8c11c180cc6",
   "metadata": {},
   "outputs": [],
   "source": [
    "# Can be applied only to aperture photometry (not to AUTO or Farmer)\n",
    "if (flx[-1]=='2' or flx[-1]=='3'):\n",
    "    aper_to_tot(cat1,filt_dict,flx_col=flx,flxerr_col=flxerr,out_col='_FLUX',\n",
    "    only_filt=filt_use,skip_filt=['IRAC_CH1', 'IRAC_CH2', 'GALEX_FUV', 'GALEX_NUV'],\n",
    "    scale_col='total_off'+flx[-1],verbose=True)\n"
   ]
  },
  {
   "cell_type": "markdown",
   "id": "eb3f2dc1-9693-4fb3-be73-f9b61cf73d21",
   "metadata": {},
   "source": [
    "### Correcting for photometric offset \n",
    "\n",
    "These are the systematic offsets in flux found by either `LePhare` or `EAZY` by using the COSMOS spectroscopic sample. They depend on the photometry (rescaled aperture-to-total photometry *Classic*, or the total photometry in *Farmer*) and on the SED fitting code (*LePhare* or *EAZY*). This correction has not been calculated for the AUTO fluxes in *Classic*. In the following we consider *LePhare* as a reference, whose prefix in the catalogue is `lp_` (e.g., `lp_zBEST`). *EAZY* prefix is `ez_`. "
   ]
  },
  {
   "cell_type": "code",
   "execution_count": 14,
   "id": "e3a45d96-1f96-4e0d-a744-39a383324a7b",
   "metadata": {},
   "outputs": [],
   "source": [
    "def photo_corr(tab_in,f_dict,versions=('Farmer','lp'),flx_col='_FLUX',only_filt=[],skip_filt=[],verbose=False,out=False):\n",
    "    \"\"\"\n",
    "    Parameters\n",
    "    ----------\n",
    "    tab_in : astropy table of COSMOS2020\n",
    "    f_dict : dictionary with filter info\n",
    "    ebv_col : name of the `tab_in` column containing the E(B-V) from Milky Way\n",
    "    flx_col : name of the `tab_in` column containing the flux\n",
    "    flxerr_col : name of the `tab_in` column containing the flux error bar\n",
    "    only_filt : list of the filters to be processed (filter names as in `f_dict`)\n",
    "    skip_filt : list of the filters NOT to be processed (filter names as in `f_dict`)\n",
    "    verbose : if True, print a verbose output\n",
    "    out : if True, return a new table with the changes; if False, overwrite `tab_in`\n",
    "    \"\"\"\n",
    "    if 'FLUX' in flx_col: flux=True\n",
    "    else: flux=False\n",
    "    if out: tab = tab_in.copy()\n",
    "    else: tab = tab_in\n",
    "    ff = f_dict.keys()\n",
    "    if len(only_filt)>0 : ff = only_filt\n",
    "    \n",
    "    if versions[0]=='Farmer' and versions[1]=='lp': v=0\n",
    "    elif versions[0]=='Farmer' and versions[1]=='ez': v=1\n",
    "    elif versions[0]=='Classic' and versions[1]=='lp': v=2\n",
    "    elif versions[0]=='Classic' and versions[1]=='ez': v=3\n",
    "    else: \n",
    "        print(\"ERROR: is this catalog version real?\", version)\n",
    "        return\n",
    "    \n",
    "    for c in ff:\n",
    "        if verbose: print(' apply photometric offset to ',c+flx_col)\n",
    "        offset = f_dict[c][3][v]\n",
    "        if c not in skip_filt and offset!=0.:\n",
    "            if flux:  tab[c+flx_col] *= np.power(10.,-0.4*offset)\n",
    "            else:  tab[c+flx_col] += offset              \n",
    "        else:\n",
    "            if verbose: print('Skip filter',c)       \n",
    "    if out: return tab"
   ]
  },
  {
   "cell_type": "code",
   "execution_count": 15,
   "id": "77c0f561-4bc1-4875-943e-89910c1f5333",
   "metadata": {},
   "outputs": [],
   "source": [
    "photo_corr(cat1,filt_dict,only_filt=filt_use,versions=(catversion,fitversion))"
   ]
  },
  {
   "cell_type": "markdown",
   "id": "b0088ebe-31f5-424f-9f4d-6d22a7ae1fb6",
   "metadata": {},
   "source": [
    "### Final formatting\n",
    "\n",
    "Define a new astropy table `cat` which will be used in the rest of this Notebook.\n",
    "\n",
    "Before saving the new table, remove from the catalogue the columns that are not used. Also convert flux units, and add AB magnitudes."
   ]
  },
  {
   "cell_type": "code",
   "execution_count": 16,
   "id": "044fd4f0-b7df-40c2-a160-c85798eefbab",
   "metadata": {},
   "outputs": [],
   "source": [
    "cat = cat1.copy()  "
   ]
  },
  {
   "cell_type": "code",
   "execution_count": 17,
   "id": "876a5a4a-4860-4401-9b2a-9d61118a712b",
   "metadata": {},
   "outputs": [],
   "source": [
    "# optional: keep only the most commonly used columns (total FLUX, error bars, RA, DEC...)\n",
    "cat.keep_columns(['ID','ALPHA_J2000','DELTA_J2000']+\n",
    "                 [i+'_FLUX' for i in filt_use]+[i+'_FLUXERR' for i in filt_use]+\n",
    "                 ['lp_zBEST','lp_model','lp_age','lp_dust','lp_Attenuation','lp_zp_2','lp_zq','lp_type']+\n",
    "                 ['lp_MNUV','lp_MR','lp_MJ','lp_mass_med','lp_mass_med_min68','lp_mass_med_max68','lp_SFR_med','lp_mass_best']+ \n",
    "                 ['ez_restU','ez_restU_err','ez_restB','ez_restB_err','ez_restV','ez_restV_err','ez_restJ','ez_restJ_err'])"
   ]
  },
  {
   "cell_type": "code",
   "execution_count": 18,
   "id": "91f6b310-395c-4a13-922a-bc88d69f3ce2",
   "metadata": {},
   "outputs": [
    {
     "name": "stderr",
     "output_type": "stream",
     "text": [
      "/var/folders/8b/l2p6wkt967l9p1j0h6q4yw9m0000gn/T/ipykernel_1594/706566923.py:4: RuntimeWarning: invalid value encountered in log10\n",
      "  mag = -2.5*np.log10(cat[b+'_FLUX'].data) + m0  # log of negative flux is masked\n"
     ]
    }
   ],
   "source": [
    "# optional: magnitudes in AB system\n",
    "m0 = +23.9  # fluxes in the catalog are in microJansky\n",
    "for b in filt_use:\n",
    "    mag = -2.5*np.log10(cat[b+'_FLUX'].data) + m0  # log of negative flux is masked\n",
    "    cat.add_column(mag.filled(np.nan),name=b+'_MAG')  # negative flux becomes NaN "
   ]
  },
  {
   "cell_type": "code",
   "execution_count": 19,
   "id": "6878e975-983d-4850-8bd1-8854421dd86b",
   "metadata": {},
   "outputs": [],
   "source": [
    "# flux conversion from uJy to erg/cm2/s/Hz\n",
    "if outflx=='cgs':\n",
    "    for b in filt_use:\n",
    "        cat[b+'_FLUX'] *= 1e-29\n",
    "        cat[b+'_FLUX'].unit = u.erg/u.cm/u.cm/u.s/u.Hz\n",
    "        cat[b+'_FLUXERR'] *= 1e-29\n",
    "        cat[b+'_FLUXERR'].unit = u.erg/u.cm/u.cm/u.s/u.Hz"
   ]
  },
  {
   "cell_type": "markdown",
   "id": "28d5dc64-0bf3-4ec3-8695-c0a127671315",
   "metadata": {},
   "source": [
    "One may want to **rename some columns** in a more user-friendly fashion. For example, the reference photo-z estimates (the ones to use in most of the cases) are originally named `lp_zBEST` for *LePhare* and `ez_z_phot` for *EAZY*. Once chosen the version, it is convenient to change the correspondent column to a standard name (e.g., `photoz`) so that the rest of the Notebook will work either way.  "
   ]
  },
  {
   "cell_type": "code",
   "execution_count": 20,
   "id": "a67b8d05-d4ea-4604-b0bd-2fb2d794c612",
   "metadata": {},
   "outputs": [],
   "source": [
    "cat.rename_column('lp_zBEST', 'photoz') \n",
    "cat.rename_column('ALPHA_J2000','RA')\n",
    "cat.rename_column('DELTA_J2000','DEC')"
   ]
  },
  {
   "cell_type": "code",
   "execution_count": 21,
   "id": "85e5137d-88d5-47d1-be95-72988701232e",
   "metadata": {},
   "outputs": [],
   "source": [
    "# Save the re-formatted table as a FITS file. \n",
    "cat.write(dir_out+'COSMOS2020_{}_processed.fits'.format(catversion),overwrite=True)"
   ]
  },
  {
   "cell_type": "code",
   "execution_count": 38,
   "id": "1831ebe7-fdd6-4531-8bb1-29929540e95b",
   "metadata": {},
   "outputs": [
    {
     "data": {
      "text/html": [
       "<div><i>Table length=12489</i>\n",
       "<table id=\"table5201565392\" class=\"table-striped table-bordered table-condensed\">\n",
       "<thead><tr><th>ID</th><th>RA</th><th>DEC</th><th>CFHT_u_FLUX</th><th>CFHT_u_FLUXERR</th><th>CFHT_ustar_FLUX</th><th>CFHT_ustar_FLUXERR</th><th>HSC_g_FLUX</th><th>HSC_g_FLUXERR</th><th>HSC_r_FLUX</th><th>HSC_r_FLUXERR</th><th>HSC_i_FLUX</th><th>HSC_i_FLUXERR</th><th>HSC_z_FLUX</th><th>HSC_z_FLUXERR</th><th>HSC_y_FLUX</th><th>HSC_y_FLUXERR</th><th>UVISTA_Y_FLUX</th><th>UVISTA_Y_FLUXERR</th><th>UVISTA_J_FLUX</th><th>UVISTA_J_FLUXERR</th><th>UVISTA_H_FLUX</th><th>UVISTA_H_FLUXERR</th><th>UVISTA_Ks_FLUX</th><th>UVISTA_Ks_FLUXERR</th><th>IRAC_CH1_FLUX</th><th>IRAC_CH1_FLUXERR</th><th>IRAC_CH2_FLUX</th><th>IRAC_CH2_FLUXERR</th><th>photoz</th><th>lp_type</th><th>lp_zp_2</th><th>lp_zq</th><th>lp_model</th><th>lp_age</th><th>lp_dust</th><th>lp_Attenuation</th><th>lp_MNUV</th><th>lp_MR</th><th>lp_MJ</th><th>lp_mass_med</th><th>lp_mass_med_min68</th><th>lp_mass_med_max68</th><th>lp_mass_best</th><th>lp_SFR_med</th><th>ez_restU</th><th>ez_restU_err</th><th>ez_restB</th><th>ez_restB_err</th><th>ez_restV</th><th>ez_restV_err</th><th>ez_restJ</th><th>ez_restJ_err</th><th>CFHT_ustar_MAG</th><th>CFHT_u_MAG</th><th>HSC_g_MAG</th><th>HSC_r_MAG</th><th>HSC_i_MAG</th><th>HSC_z_MAG</th><th>HSC_y_MAG</th><th>UVISTA_Y_MAG</th><th>UVISTA_J_MAG</th><th>UVISTA_H_MAG</th><th>UVISTA_Ks_MAG</th><th>IRAC_CH1_MAG</th><th>IRAC_CH2_MAG</th></tr></thead>\n",
       "<thead><tr><th></th><th>deg</th><th>deg</th><th>erg / (Hz s cm2)</th><th>erg / (Hz s cm2)</th><th>erg / (Hz s cm2)</th><th>erg / (Hz s cm2)</th><th>erg / (Hz s cm2)</th><th>erg / (Hz s cm2)</th><th>erg / (Hz s cm2)</th><th>erg / (Hz s cm2)</th><th>erg / (Hz s cm2)</th><th>erg / (Hz s cm2)</th><th>erg / (Hz s cm2)</th><th>erg / (Hz s cm2)</th><th>erg / (Hz s cm2)</th><th>erg / (Hz s cm2)</th><th>erg / (Hz s cm2)</th><th>erg / (Hz s cm2)</th><th>erg / (Hz s cm2)</th><th>erg / (Hz s cm2)</th><th>erg / (Hz s cm2)</th><th>erg / (Hz s cm2)</th><th>erg / (Hz s cm2)</th><th>erg / (Hz s cm2)</th><th>erg / (Hz s cm2)</th><th>erg / (Hz s cm2)</th><th>erg / (Hz s cm2)</th><th>erg / (Hz s cm2)</th><th></th><th></th><th></th><th></th><th></th><th>yr</th><th></th><th></th><th>mag</th><th>mag</th><th>mag</th><th>log(solMass)</th><th>log(solMass)</th><th>log(solMass)</th><th>log(solMass)</th><th>log(solMass/yr)</th><th>uJy</th><th>uJy</th><th>uJy</th><th>uJy</th><th>uJy</th><th>uJy</th><th>uJy</th><th>uJy</th><th></th><th></th><th></th><th></th><th></th><th></th><th></th><th></th><th></th><th></th><th></th><th></th><th></th></tr></thead>\n",
       "<thead><tr><th>int64</th><th>float64</th><th>float64</th><th>float64</th><th>float64</th><th>float64</th><th>float64</th><th>float64</th><th>float64</th><th>float64</th><th>float64</th><th>float64</th><th>float64</th><th>float64</th><th>float64</th><th>float64</th><th>float64</th><th>float64</th><th>float64</th><th>float64</th><th>float64</th><th>float64</th><th>float64</th><th>float64</th><th>float64</th><th>float64</th><th>float64</th><th>float64</th><th>float64</th><th>float64</th><th>int64</th><th>float64</th><th>float64</th><th>int64</th><th>float64</th><th>float64</th><th>int64</th><th>float64</th><th>float64</th><th>float64</th><th>float64</th><th>float64</th><th>float64</th><th>float64</th><th>float64</th><th>float32</th><th>float32</th><th>float32</th><th>float32</th><th>float32</th><th>float32</th><th>float32</th><th>float32</th><th>float64</th><th>float64</th><th>float64</th><th>float64</th><th>float64</th><th>float64</th><th>float64</th><th>float64</th><th>float64</th><th>float64</th><th>float64</th><th>float64</th><th>float64</th></tr></thead>\n",
       "<tr><td>17</td><td>150.4757193572789</td><td>2.333081930539043</td><td>8.368145035833505e-31</td><td>4.111420408254105e-32</td><td>9.0691060399348e-31</td><td>3.4859791793167357e-32</td><td>7.3768883951838475e-31</td><td>3.2805098062630306e-32</td><td>7.227763719130863e-31</td><td>4.696112198110405e-32</td><td>7.58413131658177e-31</td><td>4.4625625451961515e-32</td><td>9.123892293465841e-31</td><td>6.688396231251248e-32</td><td>6.851727926800602e-31</td><td>1.4661279655305595e-31</td><td>3.406045092204144e-30</td><td>1.0307552854766895e-31</td><td>1.2508268856547062e-30</td><td>1.2200519738940098e-31</td><td>5.884477053083092e-31</td><td>1.5362043169053946e-31</td><td>1.2064297960685068e-30</td><td>2.0640874681238424e-31</td><td>-1.053498193161979e-30</td><td>1.0544690004731174e-31</td><td>-1.1606692464855964e-30</td><td>9.03009501579847e-32</td><td>0.5725</td><td>0</td><td>--</td><td>0.0</td><td>10</td><td>50000000.0</td><td>0.1</td><td>0</td><td>-15.66295</td><td>-16.56777</td><td>-15.92039</td><td>6.6407</td><td>6.60661</td><td>6.68056</td><td>6.69292</td><td>-0.70023</td><td>--</td><td>--</td><td>--</td><td>--</td><td>--</td><td>--</td><td>--</td><td>--</td><td>26.50608880028185</td><td>26.59342700316012</td><td>26.730316967313943</td><td>26.752490133206276</td><td>26.70023538986949</td><td>26.499549625408008</td><td>26.810499726582112</td><td>25.06937401691284</td><td>26.157006981176707</td><td>26.975730315930583</td><td>26.196244863142947</td><td>nan</td><td>nan</td></tr>\n",
       "<tr><td>43</td><td>149.463199020437</td><td>1.6250610544252697</td><td>2.745922018551525e-31</td><td>4.194816745868463e-32</td><td>1.6580440136723393e-31</td><td>7.672576201831106e-32</td><td>3.3009208332223045e-31</td><td>4.3775165801609155e-32</td><td>1.139928013839383e-30</td><td>6.912354115895763e-32</td><td>2.032718084933589e-30</td><td>7.543582038998941e-32</td><td>2.7012363140169173e-30</td><td>1.1367507333986187e-31</td><td>3.0585686503857182e-30</td><td>2.935351052613259e-31</td><td>3.278118593406056e-30</td><td>1.30606389799563e-31</td><td>3.689184626281792e-30</td><td>1.4432718432768988e-31</td><td>3.3526836799093796e-30</td><td>2.002527182201697e-31</td><td>4.132194368264641e-30</td><td>2.9806572667289085e-31</td><td>4.379765778706766e-30</td><td>2.7570853828333653e-31</td><td>3.794518623337412e-30</td><td>4.442694294897336e-31</td><td>0.581</td><td>0</td><td>--</td><td>0.59</td><td>2</td><td>1278000000.0</td><td>0.0</td><td>0</td><td>-14.31334</td><td>-16.9608</td><td>-17.23857</td><td>8.3104</td><td>8.22876</td><td>8.49622</td><td>8.1999</td><td>-1.25765</td><td>0.08400761</td><td>0.0027581602</td><td>0.18817344</td><td>0.0052883103</td><td>0.26531333</td><td>0.0059078187</td><td>0.39762056</td><td>0.022865072</td><td>28.351009862628842</td><td>27.803279501136405</td><td>27.603412228334317</td><td>26.257806433455833</td><td>25.62980712232698</td><td>25.32109355120835</td><td>25.18620441800446</td><td>25.110938347223296</td><td>24.982674024599707</td><td>25.086518548988543</td><td>24.859548146317955</td><td>24.796372785232368</td><td>24.952108278333277</td></tr>\n",
       "<tr><td>54</td><td>150.72298645696668</td><td>2.543470338506238</td><td>2.2228009225541314e-31</td><td>4.32673311485983e-32</td><td>1.8941904538341318e-31</td><td>6.841206602410823e-32</td><td>5.606946601256922e-31</td><td>3.6816331627042895e-32</td><td>1.7786372668915656e-30</td><td>4.724302805082095e-32</td><td>3.156200555040926e-30</td><td>4.715251005701322e-32</td><td>4.2751883250854755e-30</td><td>7.419496298794648e-32</td><td>4.758459902216451e-30</td><td>1.707019576253449e-31</td><td>4.528758442038661e-30</td><td>3.1013624635163874e-31</td><td>7.955230466698246e-30</td><td>3.5178161442363103e-31</td><td>8.172138325565466e-30</td><td>4.390642635312075e-31</td><td>7.49763204765655e-30</td><td>2.9360226477218203e-31</td><td>9.065092014031233e-30</td><td>1.7258025080336033e-31</td><td>7.30258421347149e-30</td><td>1.9211740101673077e-31</td><td>0.591</td><td>0</td><td>--</td><td>0.42</td><td>9</td><td>5000000000.0</td><td>0.1</td><td>1</td><td>-14.84148</td><td>-17.33509</td><td>-17.92298</td><td>8.85308</td><td>8.60032</td><td>8.92417</td><td>8.85427</td><td>-1.6326</td><td>0.18764374</td><td>0.003883347</td><td>0.33530772</td><td>0.0053301156</td><td>0.4583544</td><td>0.010639533</td><td>0.81397617</td><td>0.030587882</td><td>28.20644089108947</td><td>28.032748579091212</td><td>27.028183949904417</td><td>25.77478153092825</td><td>25.152088520326195</td><td>24.82261187383427</td><td>24.70633396494062</td><td>24.760052108475552</td><td>24.14836808530891</td><td>24.11916072724736</td><td>24.212689691859204</td><td>24.00656945824186</td><td>24.241308565093465</td></tr>\n",
       "<tr><td>183</td><td>150.54224672401745</td><td>2.378253742568223</td><td>-4.300985407085678e-33</td><td>4.0227858493680204e-32</td><td>2.7951193136720416e-32</td><td>3.8254751496747965e-32</td><td>7.025937051501555e-32</td><td>3.080235458386453e-32</td><td>1.583735179083141e-31</td><td>4.1724984727432584e-32</td><td>3.239827844866823e-31</td><td>4.1915339684350826e-32</td><td>4.8980859063781966e-31</td><td>6.4640243362659e-32</td><td>1.4147404909710026e-31</td><td>1.4577845643001387e-31</td><td>5.094748944528552e-31</td><td>1.0778125045694485e-31</td><td>6.667996003517936e-31</td><td>1.1846001784340312e-31</td><td>1.7225298731274263e-30</td><td>1.5202116240123869e-31</td><td>1.1048334897459078e-30</td><td>2.163260960503916e-31</td><td>7.65441973555564e-31</td><td>1.3717151407329282e-31</td><td>7.183953561248735e-31</td><td>1.4116866127262637e-31</td><td>0.5639</td><td>0</td><td>0.65</td><td>0.24</td><td>11</td><td>7500000000.0</td><td>0.0</td><td>0</td><td>-11.34352</td><td>-14.8448</td><td>-15.7431</td><td>7.77235</td><td>7.49397</td><td>8.02922</td><td>8.09777</td><td>-1.5917</td><td>0.005995683</td><td>0.0019830752</td><td>0.016502382</td><td>0.001669066</td><td>0.03215064</td><td>0.002745498</td><td>0.120413825</td><td>0.010500718</td><td>30.28399912224942</td><td>nan</td><td>29.283239363910504</td><td>28.400793590764586</td><td>27.623695165849796</td><td>27.174934005389</td><td>28.523308041118447</td><td>27.13219302997424</td><td>26.840011672848917</td><td>25.80958309391093</td><td>26.29175792470632</td><td>26.690219316528598</td><td>26.759091209281237</td></tr>\n",
       "<tr><td>188</td><td>150.48682343820767</td><td>1.8764173300865943</td><td>2.5786418032839154e-32</td><td>2.7843559854569926e-32</td><td>-1.3263930536096046e-32</td><td>3.538971464472887e-32</td><td>4.3511052382644836e-32</td><td>3.0958358134973024e-32</td><td>2.5311584215936893e-32</td><td>4.1240384637378995e-32</td><td>1.5238787603122136e-31</td><td>4.187797089370699e-32</td><td>2.041932674594686e-31</td><td>6.455085364586834e-32</td><td>4.332052060172194e-31</td><td>1.4671677605361377e-31</td><td>4.814269850283607e-31</td><td>1.0115727551980746e-31</td><td>7.553430343435922e-31</td><td>1.0718406818069983e-31</td><td>1.0826328260122269e-30</td><td>1.310426542958116e-31</td><td>1.1235206456661837e-30</td><td>1.8239666886503114e-31</td><td>4.7949547803547205e-31</td><td>1.156893035051859e-31</td><td>4.53626454177237e-31</td><td>1.1852820889826196e-31</td><td>0.5668</td><td>0</td><td>0.81</td><td>0.15</td><td>9</td><td>7000000000.0</td><td>0.2</td><td>1</td><td>-10.36334</td><td>-14.76217</td><td>-15.74596</td><td>7.60783</td><td>7.30271</td><td>7.90344</td><td>7.9941</td><td>-1.65149</td><td>0.0020951678</td><td>0.0017998174</td><td>0.0058977455</td><td>0.0015804674</td><td>0.014342605</td><td>0.0016091578</td><td>0.08787533</td><td>0.0065860227</td><td>nan</td><td>30.371522452779697</td><td>29.803501031227626</td><td>30.391701680297952</td><td>28.442623960151643</td><td>28.124896453289324</td><td>27.308265832269576</td><td>27.193673925573872</td><td>26.704639428580325</td><td>26.313797022504957</td><td>26.2735473565845</td><td>27.198038710406923</td><td>27.25825406645966</td></tr>\n",
       "<tr><td>287</td><td>149.47015083863695</td><td>1.628419231705907</td><td>6.216118978040415e-31</td><td>4.138740148911816e-32</td><td>3.4196434045986516e-31</td><td>7.803448803253371e-32</td><td>5.173207456808129e-31</td><td>4.565338508391032e-32</td><td>1.5541539672355626e-30</td><td>6.997322473353662e-32</td><td>2.8876979772107013e-30</td><td>7.691580707482577e-32</td><td>3.907742485463325e-30</td><td>1.1456392807090402e-31</td><td>4.237910999014799e-30</td><td>3.0118241864600646e-31</td><td>4.6297004336460824e-30</td><td>1.3258511044378349e-31</td><td>5.932466892213171e-30</td><td>1.4535643759372243e-31</td><td>6.340973065929076e-30</td><td>2.0028523508776882e-31</td><td>7.604721127634579e-30</td><td>2.942961615069259e-31</td><td>4.17400658695195e-30</td><td>3.4588790792791755e-31</td><td>-2.9962689738857026e-30</td><td>4.738109846381322e-31</td><td>0.5978</td><td>0</td><td>0.16</td><td>0.13</td><td>9</td><td>5000000000.0</td><td>0.0</td><td>0</td><td>-14.71037</td><td>-17.38896</td><td>-17.97533</td><td>8.66677</td><td>8.5715</td><td>8.72409</td><td>8.68796</td><td>-1.47584</td><td>0.07404977</td><td>0.0028103217</td><td>0.15909019</td><td>0.0048400164</td><td>0.26092312</td><td>0.00490883</td><td>0.6124688</td><td>0.017835855</td><td>27.56504794793676</td><td>26.91620170406197</td><td>27.11560026273409</td><td>25.92126489657829</td><td>25.24862057838783</td><td>24.920185158459898</td><td>24.832120420527563</td><td>24.736117773115733</td><td>24.466911692013493</td><td>24.394610228822227</td><td>24.197291768277978</td><td>24.8486171747872</td><td>nan</td></tr>\n",
       "<tr><td>588</td><td>150.479733941077</td><td>1.878074829719115</td><td>2.4633773157345563e-31</td><td>2.812283841034637e-32</td><td>2.6889051569792508e-31</td><td>3.5407133818321237e-32</td><td>5.01065635390963e-31</td><td>3.103527286745692e-32</td><td>1.388810319751352e-30</td><td>4.054322663558848e-32</td><td>2.5473470895226416e-30</td><td>4.1112176645815315e-32</td><td>3.738701678571913e-30</td><td>6.525969084905208e-32</td><td>4.02300004110745e-30</td><td>1.4820206614582038e-31</td><td>4.1628748100184964e-30</td><td>1.0767351993239521e-31</td><td>5.694392757247486e-30</td><td>1.1318156932132657e-31</td><td>6.014334854033678e-30</td><td>1.3580883771925564e-31</td><td>3.6617254841215534e-30</td><td>1.866444393130659e-31</td><td>3.719472541090917e-30</td><td>1.1637282056026668e-31</td><td>2.189806876804068e-30</td><td>1.3137143677056317e-31</td><td>0.5635</td><td>0</td><td>--</td><td>0.0</td><td>2</td><td>1278000000.0</td><td>0.0</td><td>0</td><td>-14.32644</td><td>-17.14204</td><td>-17.03552</td><td>8.31456</td><td>8.24595</td><td>8.39997</td><td>8.27795</td><td>-1.85927</td><td>--</td><td>--</td><td>--</td><td>--</td><td>--</td><td>--</td><td>--</td><td>--</td><td>27.826061289836847</td><td>27.921172655348325</td><td>27.15026345368983</td><td>26.043392662672673</td><td>25.384779690207328</td><td>24.96819796757638</td><td>24.888624907477674</td><td>24.851516623597174</td><td>24.511381454307937</td><td>24.45203098947026</td><td>24.99078554358664</td><td>24.97379660777864</td><td>25.54898546179998</td></tr>\n",
       "<tr><td>634</td><td>149.78056360268874</td><td>1.6250201746394175</td><td>4.62990181777813e-30</td><td>6.024383978320006e-32</td><td>4.38236629401197e-30</td><td>1.0116545330527184e-31</td><td>4.5014415748263104e-30</td><td>4.8041859931418644e-32</td><td>8.508389219639641e-30</td><td>5.912598926421356e-32</td><td>1.1238028507464268e-29</td><td>6.470147397712916e-32</td><td>1.1570113166637481e-29</td><td>1.0058947317187928e-31</td><td>1.2129364919801436e-29</td><td>2.2312096343587846e-31</td><td>1.4022316308078867e-29</td><td>1.7025075248399766e-31</td><td>1.4006337044195482e-29</td><td>1.890608993641184e-31</td><td>1.4959105716878777e-29</td><td>2.508449520484601e-31</td><td>1.4239208984652316e-29</td><td>3.8149464021345867e-31</td><td>1.0322432170393156e-29</td><td>1.938154635303527e-31</td><td>5.458215058541499e-30</td><td>2.0686684446491037e-31</td><td>0.5675</td><td>0</td><td>--</td><td>0.0</td><td>2</td><td>570900000.0</td><td>0.0</td><td>0</td><td>-17.37423</td><td>-18.45279</td><td>-18.55864</td><td>8.50396</td><td>8.46356</td><td>8.54011</td><td>8.49828</td><td>-0.59526</td><td>0.7121061</td><td>0.007551849</td><td>1.1236274</td><td>0.012105882</td><td>1.1743207</td><td>0.012378991</td><td>1.4388757</td><td>0.034561932</td><td>24.795728313389816</td><td>24.736070546455814</td><td>24.766620955709804</td><td>24.07538162835387</td><td>23.773274676416392</td><td>23.74165598304287</td><td>23.690404844298175</td><td>23.53295060131452</td><td>23.534188567832935</td><td>23.462735921565535</td><td>23.51628533979959</td><td>23.865544905577504</td><td>24.55737339184768</td></tr>\n",
       "<tr><td>925</td><td>149.47364645895192</td><td>1.6317531416485374</td><td>8.1293703879193e-30</td><td>5.440930256969316e-32</td><td>6.959137658139078e-30</td><td>9.758577150988076e-32</td><td>9.022320610977108e-30</td><td>6.264831667389669e-32</td><td>1.945181863341754e-29</td><td>9.78379383254202e-32</td><td>3.162198464608218e-29</td><td>1.089339742336601e-31</td><td>3.3823090243034075e-29</td><td>1.7005524462263054e-31</td><td>3.7462206226907396e-29</td><td>3.738998709294619e-31</td><td>3.8865137513460555e-29</td><td>1.6918836809485568e-31</td><td>4.3190627367801023e-29</td><td>1.8945883222584945e-31</td><td>4.7793902580285434e-29</td><td>2.6350557586820686e-31</td><td>4.826443342084455e-29</td><td>3.882356941290275e-31</td><td>3.5037721054772006e-29</td><td>3.602855588031682e-31</td><td>2.2430849998893086e-29</td><td>4.25659249354069e-31</td><td>0.5976</td><td>0</td><td>--</td><td>0.48</td><td>2</td><td>904800000.0</td><td>0.0</td><td>0</td><td>-17.97985</td><td>-19.74571</td><td>-19.98475</td><td>9.25</td><td>9.216</td><td>9.284</td><td>9.23442</td><td>-0.3</td><td>1.6105162</td><td>0.01525563</td><td>3.0028818</td><td>0.022828102</td><td>3.443498</td><td>0.03590989</td><td>4.8150296</td><td>0.08866906</td><td>24.293611431690003</td><td>24.124857722005245</td><td>24.011704360435548</td><td>23.177599470995457</td><td>22.65002719133893</td><td>22.576966789141206</td><td>22.46601662426545</td><td>22.426099478314384</td><td>22.311526218846563</td><td>22.201568764988842</td><td>22.190931969134027</td><td>22.538660373092355</td><td>23.02288567216892</td></tr>\n",
       "<tr><td>...</td><td>...</td><td>...</td><td>...</td><td>...</td><td>...</td><td>...</td><td>...</td><td>...</td><td>...</td><td>...</td><td>...</td><td>...</td><td>...</td><td>...</td><td>...</td><td>...</td><td>...</td><td>...</td><td>...</td><td>...</td><td>...</td><td>...</td><td>...</td><td>...</td><td>...</td><td>...</td><td>...</td><td>...</td><td>...</td><td>...</td><td>...</td><td>...</td><td>...</td><td>...</td><td>...</td><td>...</td><td>...</td><td>...</td><td>...</td><td>...</td><td>...</td><td>...</td><td>...</td><td>...</td><td>...</td><td>...</td><td>...</td><td>...</td><td>...</td><td>...</td><td>...</td><td>...</td><td>...</td><td>...</td><td>...</td><td>...</td><td>...</td><td>...</td><td>...</td><td>...</td><td>...</td><td>...</td><td>...</td><td>...</td><td>...</td></tr>\n",
       "<tr><td>963878</td><td>150.43942901709198</td><td>2.0415450384741285</td><td>1.8657264374533247e-29</td><td>8.486927807052518e-32</td><td>1.7862293391615056e-29</td><td>6.316695833197042e-32</td><td>2.644466779670232e-29</td><td>5.767931775547805e-32</td><td>5.537396421004585e-29</td><td>7.923308818692631e-32</td><td>8.969105582178241e-29</td><td>8.483391039703974e-32</td><td>1.102189945760445e-28</td><td>1.4050545483673836e-31</td><td>1.2559682953904828e-28</td><td>2.7262098735524104e-31</td><td>1.4474216028916465e-28</td><td>1.767553330192924e-31</td><td>1.629458112385362e-28</td><td>2.07939594477752e-31</td><td>2.072318295003339e-28</td><td>2.735379717845231e-31</td><td>2.3365078817249515e-28</td><td>3.851974206136749e-31</td><td>1.8146081378204022e-28</td><td>1.4830652689953832e-31</td><td>1.3094670755518388e-28</td><td>1.6799574950411988e-31</td><td>0.5791</td><td>0</td><td>--</td><td>0.6</td><td>3</td><td>1434000000.0</td><td>0.2</td><td>1</td><td>-18.89892</td><td>-21.04007</td><td>-21.60343</td><td>9.93419</td><td>9.87699</td><td>10.01843</td><td>9.94343</td><td>0.60374</td><td>4.5294843</td><td>0.095024824</td><td>8.26329</td><td>0.06794453</td><td>11.020809</td><td>0.1103611</td><td>22.608828</td><td>0.51686</td><td>23.270156953850986</td><td>23.222880086112166</td><td>22.844154710765945</td><td>22.04173596081919</td><td>21.518127158859087</td><td>21.294358887378788</td><td>21.152553308564634</td><td>20.998512374447944</td><td>20.869891998082572</td><td>20.608858847284303</td><td>20.47858187408699</td><td>20.753042864526144</td><td>21.10726354184814</td></tr>\n",
       "<tr><td>963931</td><td>149.9211818198344</td><td>2.375237066500053</td><td>-7.698562455543732e-32</td><td>4.0262182892412e-32</td><td>-1.3449074437635418e-32</td><td>3.895403322187754e-32</td><td>8.44604607185676e-32</td><td>3.050279134276572e-32</td><td>1.6163639001928204e-31</td><td>4.19422994117752e-32</td><td>5.829201907755898e-31</td><td>4.196943660246076e-32</td><td>9.784128128523019e-31</td><td>6.558390953648691e-32</td><td>9.546082723603608e-31</td><td>1.4388279321917323e-31</td><td>9.248447805958657e-31</td><td>2.6672263093133256e-31</td><td>1.2074754128482376e-30</td><td>2.984556624126024e-31</td><td>2.0949955282364543e-30</td><td>3.859889756265347e-31</td><td>2.234556986885677e-30</td><td>2.764278574017856e-31</td><td>1.3140264361515202e-30</td><td>1.477060865598201e-31</td><td>1.3595364761139278e-30</td><td>1.4363099923433697e-31</td><td>0.5639</td><td>0</td><td>5.05</td><td>0.43</td><td>1</td><td>2300000000.0</td><td>0.0</td><td>0</td><td>-10.44096</td><td>-15.68933</td><td>-16.50524</td><td>8.24816</td><td>8.03213</td><td>8.38587</td><td>8.08218</td><td>-3.93773</td><td>0.011556403</td><td>0.00077679474</td><td>0.037568823</td><td>0.0017495006</td><td>0.075513795</td><td>0.0031936988</td><td>0.19829264</td><td>0.01743713</td><td>nan</td><td>nan</td><td>29.0833663847409</td><td>28.378652144091987</td><td>26.98597725409048</td><td>26.423694671525357</td><td>26.45043701620641</td><td>26.48482787514504</td><td>26.195304259459864</td><td>25.597042249243383</td><td>25.527021413121712</td><td>26.103489743410844</td><td>26.066522839697477</td></tr>\n",
       "<tr><td>963944</td><td>150.24268680927258</td><td>1.7903312735678187</td><td>1.5916146147764052e-30</td><td>4.4756935985020196e-32</td><td>1.720883308720149e-30</td><td>4.4201601894428094e-32</td><td>1.995931432429399e-30</td><td>3.8371037123632983e-32</td><td>4.027143722880103e-30</td><td>4.8968158705936506e-32</td><td>5.34402109254915e-30</td><td>5.206433567670681e-32</td><td>6.02350447862628e-30</td><td>8.558967759703398e-32</td><td>6.474375675742149e-30</td><td>1.7870708061207006e-31</td><td>6.976153147510831e-30</td><td>1.7426254246192311e-31</td><td>5.337701023158405e-30</td><td>2.0004686619603297e-31</td><td>7.502401929887251e-30</td><td>2.7598524500850874e-31</td><td>6.407849755392716e-30</td><td>2.882605054495781e-31</td><td>4.743427529391186e-30</td><td>1.3079540903750823e-31</td><td>3.5637635995261304e-30</td><td>1.2921102984724553e-31</td><td>0.5889</td><td>0</td><td>--</td><td>0.0</td><td>1</td><td>360200000.0</td><td>0.0</td><td>0</td><td>-16.44043</td><td>-17.76946</td><td>-17.77898</td><td>8.22322</td><td>8.17343</td><td>8.34977</td><td>8.18414</td><td>-1.15357</td><td>0.2839651</td><td>0.005423397</td><td>0.4777722</td><td>0.007305339</td><td>0.5751525</td><td>0.007935107</td><td>0.67325187</td><td>0.023252428</td><td>25.810621444310545</td><td>25.895405204148997</td><td>25.64963595600469</td><td>24.887507176949924</td><td>24.580329590983396</td><td>24.45037690603308</td><td>24.372005260646787</td><td>24.290959984756952</td><td>24.58161438923606</td><td>24.211999182222677</td><td>24.383219199226225</td><td>24.709769325578982</td><td>25.02022778096672</td></tr>\n",
       "<tr><td>964077</td><td>150.03919602124367</td><td>2.706427443717199</td><td>5.032461943098487e-30</td><td>4.8799392025902533e-32</td><td>4.446427635622016e-30</td><td>3.9901070130979694e-32</td><td>5.3934798125457236e-30</td><td>3.297562684443103e-32</td><td>9.591410242450496e-30</td><td>4.4416178129471063e-32</td><td>1.3698456753834128e-29</td><td>4.4135484747092453e-32</td><td>1.2304622669688883e-29</td><td>6.937441995235707e-32</td><td>1.4741768377555976e-29</td><td>1.5671799383979145e-31</td><td>2.1036486247615022e-29</td><td>1.0745411327240763e-31</td><td>1.6558397381360928e-29</td><td>1.2605279972749767e-31</td><td>1.9907375123468424e-29</td><td>1.6704006762663605e-31</td><td>1.9316531066802846e-29</td><td>2.3139810542523243e-31</td><td>1.4629775388619728e-29</td><td>2.581190709254155e-31</td><td>1.0515983134293522e-29</td><td>2.8554254881371007e-31</td><td>0.591</td><td>0</td><td>--</td><td>0.0</td><td>10</td><td>904800000.0</td><td>0.2</td><td>1</td><td>-17.43572</td><td>-18.81686</td><td>-18.98108</td><td>8.61987</td><td>8.57444</td><td>8.66185</td><td>8.61347</td><td>0.13251</td><td>0.7851855</td><td>0.012039602</td><td>1.126471</td><td>0.011375487</td><td>1.3065339</td><td>0.014636993</td><td>1.9338152</td><td>0.03934771</td><td>24.779971928282958</td><td>24.64554875171169</td><td>24.570327356162693</td><td>23.94529383257214</td><td>23.558320892518797</td><td>23.674829249292337</td><td>23.478626041777666</td><td>23.09256699811961</td><td>23.352454247699153</td><td>23.152464999673448</td><td>23.185177157768752</td><td>23.486905853899273</td><td>23.845375297734346</td></tr>\n",
       "<tr><td>964095</td><td>150.2250754491691</td><td>1.7913597889632622</td><td>1.0911074391731862e-30</td><td>4.4459998257553093e-32</td><td>9.822635718032072e-31</td><td>4.335760787471239e-32</td><td>1.2062315824731415e-30</td><td>3.6142812777570683e-32</td><td>2.3933220012577394e-30</td><td>4.821610005267507e-32</td><td>3.168358283893142e-30</td><td>4.956982604438194e-32</td><td>3.549038191005871e-30</td><td>8.104073196574037e-32</td><td>3.7400913159062384e-30</td><td>1.694995881689499e-31</td><td>4.517235586329069e-30</td><td>1.1452069994515542e-31</td><td>4.474226059382033e-30</td><td>1.328131024004527e-31</td><td>4.772049290585306e-30</td><td>1.7761946500606143e-31</td><td>4.767193074470197e-30</td><td>2.2738620593234984e-31</td><td>2.7441540091179838e-30</td><td>1.090517711779238e-31</td><td>1.7568774356103835e-30</td><td>1.0889562078627364e-31</td><td>0.584</td><td>0</td><td>--</td><td>0.0</td><td>1</td><td>360200000.0</td><td>0.0</td><td>0</td><td>-15.81449</td><td>-17.27889</td><td>-17.43906</td><td>8.03916</td><td>7.98042</td><td>8.14493</td><td>7.97975</td><td>-1.29213</td><td>0.1943197</td><td>0.0036529675</td><td>0.319431</td><td>0.006039664</td><td>0.36556435</td><td>0.006036252</td><td>0.4682109</td><td>0.016039774</td><td>26.41942990471614</td><td>26.305331207986733</td><td>26.196423261719026</td><td>25.452497167004214</td><td>25.147914283678894</td><td>25.024723318020236</td><td>24.967794485468016</td><td>24.762818147974027</td><td>24.77320519260675</td><td>24.703237697857</td><td>24.704343146258037</td><td>25.30397879634071</td><td>25.788146337432426</td></tr>\n",
       "<tr><td>964199</td><td>149.92811381895288</td><td>2.376169032794134</td><td>1.5631335143081611e-30</td><td>3.98296230895299e-32</td><td>1.4783686225313807e-30</td><td>3.8224380784105815e-32</td><td>1.5482524218064442e-30</td><td>3.045785546777539e-32</td><td>1.6366106084636994e-30</td><td>4.098683963371181e-32</td><td>1.485555183260843e-30</td><td>4.0908177214200425e-32</td><td>1.5167110355269566e-30</td><td>6.427701769141932e-32</td><td>2.1746249120487816e-30</td><td>1.4323479926084366e-31</td><td>3.420418139750147e-30</td><td>2.6320618617633946e-31</td><td>2.5725898549905168e-30</td><td>2.944795002717665e-31</td><td>1.7911177987155117e-30</td><td>3.809353372813528e-31</td><td>3.3440732413927984e-30</td><td>2.745645092074577e-31</td><td>9.638191009001408e-31</td><td>1.2054832256026393e-31</td><td>9.268584752117726e-31</td><td>1.2080045170647415e-31</td><td>0.5927</td><td>0</td><td>1.04</td><td>0.0</td><td>12</td><td>101500000.0</td><td>0.1</td><td>1</td><td>-16.2519</td><td>-16.94266</td><td>-17.07968</td><td>7.08568</td><td>6.94923</td><td>7.14845</td><td>7.10141</td><td>-0.48841</td><td>0.17305923</td><td>0.003083907</td><td>0.16680974</td><td>0.0029845685</td><td>0.16278793</td><td>0.0039864555</td><td>0.2285795</td><td>0.01654575</td><td>25.975543159151385</td><td>25.91500981334797</td><td>25.925395579965034</td><td>25.865136595165605</td><td>25.970278027539468</td><td>25.947742883283826</td><td>25.55653910272202</td><td>25.06480199751622</td><td>25.37407361833798</td><td>25.767189626039404</td><td>25.089310548189903</td><td>26.440011177828953</td><td>26.482466436286163</td></tr>\n",
       "<tr><td>964210</td><td>150.43047935044325</td><td>2.539280737400447</td><td>9.209549955659562e-31</td><td>3.2866418781318446e-32</td><td>8.551068811523462e-31</td><td>3.7318386487574517e-32</td><td>9.110581989068545e-31</td><td>3.288200000997474e-32</td><td>1.6562298081790082e-30</td><td>4.3307234288331607e-32</td><td>1.7894279369691625e-30</td><td>4.235589830847349e-32</td><td>2.1694401630606927e-30</td><td>6.698411038280118e-32</td><td>2.899831335045508e-30</td><td>1.5242198350323082e-31</td><td>2.498770177489815e-30</td><td>9.866652580345845e-32</td><td>2.741151959863008e-30</td><td>1.107548922918282e-31</td><td>3.0099827977223458e-30</td><td>1.4467614304597095e-31</td><td>3.91080724541894e-30</td><td>1.9849814871273397e-31</td><td>2.76183516095509e-30</td><td>1.2046276720481497e-31</td><td>1.0233200263262086e-32</td><td>1.2860731028929413e-31</td><td>0.5969</td><td>0</td><td>--</td><td>0.0</td><td>9</td><td>1139000000.0</td><td>0.1</td><td>1</td><td>-15.68303</td><td>-16.71311</td><td>-17.27291</td><td>7.81954</td><td>7.71661</td><td>7.91519</td><td>7.8383</td><td>-0.86423</td><td>--</td><td>--</td><td>--</td><td>--</td><td>--</td><td>--</td><td>--</td><td>--</td><td>26.569948996823896</td><td>26.48940398003154</td><td>26.501134697916633</td><td>25.8521985084014</td><td>25.768214466580883</td><td>25.559130809920042</td><td>25.24406815386402</td><td>25.4056842148638</td><td>25.305167220070746</td><td>25.20358996606158</td><td>24.91933397220985</td><td>25.2970056141979</td><td>31.374971316666464</td></tr>\n",
       "<tr><td>964238</td><td>149.9061437611668</td><td>2.375801667174972</td><td>6.912054949895129e-31</td><td>4.1250426803164407e-32</td><td>6.758500624284663e-31</td><td>3.8227174555927373e-32</td><td>6.8678777322337965e-31</td><td>3.2370778795663e-32</td><td>1.4945898626266836e-30</td><td>4.3295487538859106e-32</td><td>1.7371714113234605e-30</td><td>4.214515897929098e-32</td><td>1.8614444174530432e-30</td><td>6.55746178874994e-32</td><td>2.8411595787756316e-30</td><td>1.476878581727538e-31</td><td>3.229525812168707e-30</td><td>2.8742421969498114e-31</td><td>3.3553528775143715e-30</td><td>3.2027930673951965e-31</td><td>1.3697062104439797e-30</td><td>4.115165302371824e-31</td><td>6.994258230794246e-30</td><td>2.9462966123184504e-31</td><td>4.338126301602832e-30</td><td>1.4818102786616407e-31</td><td>3.534300878791221e-30</td><td>1.5340792792696768e-31</td><td>0.5692</td><td>0</td><td>--</td><td>0.38</td><td>11</td><td>360200000.0</td><td>0.3</td><td>0</td><td>-15.2975</td><td>-16.76094</td><td>-17.74369</td><td>7.78913</td><td>7.70605</td><td>7.86956</td><td>7.84165</td><td>-0.3558</td><td>0.10419247</td><td>0.002777014</td><td>0.15825005</td><td>0.0039912313</td><td>0.18910179</td><td>0.003823474</td><td>0.5043018</td><td>0.02293244</td><td>26.82537410438605</td><td>26.800982044833695</td><td>26.807943612799658</td><td>25.963694919411157</td><td>25.800393316117354</td><td>25.725374818106083</td><td>25.26626093167704</td><td>25.12715309995904</td><td>25.08565449745706</td><td>26.058431437703174</td><td>24.28814584351464</td><td>24.80674451987172</td><td>25.0292412032612</td></tr>\n",
       "<tr><td>964429</td><td>150.2116778471035</td><td>1.78991108583762</td><td>1.3900899430665765e-29</td><td>4.792338063726026e-32</td><td>--</td><td>--</td><td>1.230271690629745e-29</td><td>3.464101615137754e-32</td><td>1.4579958541920928e-29</td><td>4.527692569068708e-32</td><td>1.719611233501721e-29</td><td>4.330127018922194e-32</td><td>1.3481889517172972e-29</td><td>6.955213871621778e-32</td><td>1.430490182164475e-29</td><td>1.5362291495737214e-31</td><td>2.1995996373906803e-29</td><td>9.389271504805867e-32</td><td>--</td><td>--</td><td>--</td><td>--</td><td>--</td><td>--</td><td>-5.993844213577835e-30</td><td>1.1971882770586252e-31</td><td>-4.3112356431511865e-30</td><td>1.223697504024646e-31</td><td>0.5593</td><td>0</td><td>--</td><td>0.0</td><td>10</td><td>160900000.0</td><td>0.0</td><td>0</td><td>-18.7261</td><td>-18.66414</td><td>-18.24666</td><td>7.93591</td><td>7.90169</td><td>7.97802</td><td>7.93811</td><td>0.12864</td><td>--</td><td>--</td><td>--</td><td>--</td><td>--</td><td>--</td><td>--</td><td>--</td><td>nan</td><td>23.542392746642165</td><td>23.674997423207238</td><td>23.490609277329156</td><td>23.31142431620341</td><td>23.575623090463534</td><td>23.511287796318282</td><td>23.04414090146162</td><td>nan</td><td>nan</td><td>nan</td><td>nan</td><td>nan</td></tr>\n",
       "</table></div>"
      ],
      "text/plain": [
       "<Table length=12489>\n",
       "  ID           RA         ...    IRAC_CH1_MAG       IRAC_CH2_MAG   \n",
       "              deg         ...                                      \n",
       "int64       float64       ...      float64            float64      \n",
       "------ ------------------ ... ------------------ ------------------\n",
       "    17  150.4757193572789 ...                nan                nan\n",
       "    43   149.463199020437 ... 24.796372785232368 24.952108278333277\n",
       "    54 150.72298645696668 ...  24.00656945824186 24.241308565093465\n",
       "   183 150.54224672401745 ... 26.690219316528598 26.759091209281237\n",
       "   188 150.48682343820767 ... 27.198038710406923  27.25825406645966\n",
       "   287 149.47015083863695 ...   24.8486171747872                nan\n",
       "   588   150.479733941077 ...  24.97379660777864  25.54898546179998\n",
       "   634 149.78056360268874 ... 23.865544905577504  24.55737339184768\n",
       "   925 149.47364645895192 ... 22.538660373092355  23.02288567216892\n",
       "   ...                ... ...                ...                ...\n",
       "963878 150.43942901709198 ... 20.753042864526144  21.10726354184814\n",
       "963931  149.9211818198344 ... 26.103489743410844 26.066522839697477\n",
       "963944 150.24268680927258 ... 24.709769325578982  25.02022778096672\n",
       "964077 150.03919602124367 ... 23.486905853899273 23.845375297734346\n",
       "964095  150.2250754491691 ...  25.30397879634071 25.788146337432426\n",
       "964199 149.92811381895288 ... 26.440011177828953 26.482466436286163\n",
       "964210 150.43047935044325 ...   25.2970056141979 31.374971316666464\n",
       "964238  149.9061437611668 ...  24.80674451987172   25.0292412032612\n",
       "964429  150.2116778471035 ...                nan                nan"
      ]
     },
     "execution_count": 38,
     "metadata": {},
     "output_type": "execute_result"
    }
   ],
   "source": [
    "# searchfield = cat[(cat['photoz']<=0.6) && ([cat['photoz'] >= 0.5])]\n",
    "searchfield = cat[(cat['photoz']<=0.6) & (cat['photoz']>=0.55667)]\n",
    "searchfield"
   ]
  },
  {
   "cell_type": "markdown",
   "id": "62cb4d1e-6d34-4a0c-be5a-80ea7376587c",
   "metadata": {},
   "source": [
    "##### compute colors\n",
    "searchfield['u-b'] = searchfield['ez_restU'] - searchfield['ez_restB']\n",
    "searchfield['b-v'] = searchfield['ez_restB'] - searchfield['ez_restV']\n",
    "searchfield['v-j'] = searchfield['ez_restV'] - searchfield['ez_restJ']\n",
    "\n",
    "colors = searchfield['u-b', 'b-v', 'v-j']\n",
    "colors"
   ]
  },
  {
   "cell_type": "code",
   "execution_count": 61,
   "id": "e7d2a634-3b03-452d-bbef-8d08af8bfadd",
   "metadata": {},
   "outputs": [
    {
     "data": {
      "text/html": [
       "<div><i>Table length=12489</i>\n",
       "<table id=\"table5156194256\" class=\"table-striped table-bordered table-condensed\">\n",
       "<thead><tr><th>u-b</th><th>b-v</th><th>v-j</th></tr></thead>\n",
       "<thead><tr><th>uJy</th><th>uJy</th><th>uJy</th></tr></thead>\n",
       "<thead><tr><th>float32</th><th>float32</th><th>float32</th></tr></thead>\n",
       "<tr><td>--</td><td>--</td><td>--</td></tr>\n",
       "<tr><td>-0.10416583</td><td>-0.077139884</td><td>-0.13230723</td></tr>\n",
       "<tr><td>-0.14766398</td><td>-0.123046696</td><td>-0.35562176</td></tr>\n",
       "<tr><td>-0.010506699</td><td>-0.015648259</td><td>-0.088263184</td></tr>\n",
       "<tr><td>-0.0038025777</td><td>-0.00844486</td><td>-0.07353272</td></tr>\n",
       "<tr><td>-0.08504042</td><td>-0.101832926</td><td>-0.35154566</td></tr>\n",
       "<tr><td>--</td><td>--</td><td>--</td></tr>\n",
       "<tr><td>-0.41152132</td><td>-0.050693274</td><td>-0.26455498</td></tr>\n",
       "<tr><td>-1.3923656</td><td>-0.44061613</td><td>-1.3715317</td></tr>\n",
       "<tr><td>...</td><td>...</td><td>...</td></tr>\n",
       "<tr><td>-3.7338061</td><td>-2.7575188</td><td>-11.588018</td></tr>\n",
       "<tr><td>-0.02601242</td><td>-0.037944973</td><td>-0.12277885</td></tr>\n",
       "<tr><td>-0.1938071</td><td>-0.09738031</td><td>-0.09809935</td></tr>\n",
       "<tr><td>-0.34128553</td><td>-0.18006289</td><td>-0.6272813</td></tr>\n",
       "<tr><td>-0.12511131</td><td>-0.04613334</td><td>-0.10264656</td></tr>\n",
       "<tr><td>0.0062494874</td><td>0.0040218085</td><td>-0.06579158</td></tr>\n",
       "<tr><td>--</td><td>--</td><td>--</td></tr>\n",
       "<tr><td>-0.054057576</td><td>-0.030851737</td><td>-0.3152</td></tr>\n",
       "<tr><td>--</td><td>--</td><td>--</td></tr>\n",
       "</table></div>"
      ],
      "text/plain": [
       "<Table length=12489>\n",
       "     u-b          b-v          v-j     \n",
       "     uJy          uJy          uJy     \n",
       "   float32      float32      float32   \n",
       "------------- ------------ ------------\n",
       "           --           --           --\n",
       "  -0.10416583 -0.077139884  -0.13230723\n",
       "  -0.14766398 -0.123046696  -0.35562176\n",
       " -0.010506699 -0.015648259 -0.088263184\n",
       "-0.0038025777  -0.00844486  -0.07353272\n",
       "  -0.08504042 -0.101832926  -0.35154566\n",
       "           --           --           --\n",
       "  -0.41152132 -0.050693274  -0.26455498\n",
       "   -1.3923656  -0.44061613   -1.3715317\n",
       "          ...          ...          ...\n",
       "   -3.7338061   -2.7575188   -11.588018\n",
       "  -0.02601242 -0.037944973  -0.12277885\n",
       "   -0.1938071  -0.09738031  -0.09809935\n",
       "  -0.34128553  -0.18006289   -0.6272813\n",
       "  -0.12511131  -0.04613334  -0.10264656\n",
       " 0.0062494874 0.0040218085  -0.06579158\n",
       "           --           --           --\n",
       " -0.054057576 -0.030851737      -0.3152\n",
       "           --           --           --"
      ]
     },
     "execution_count": 61,
     "metadata": {},
     "output_type": "execute_result"
    }
   ],
   "source": [
    "#compute colors - legacy SED method\n",
    "searchfield['u-b'] = searchfield['ez_restU'] - searchfield['ez_restB']\n",
    "searchfield['b-v'] = searchfield['ez_restB'] - searchfield['ez_restV']\n",
    "searchfield['v-j'] = searchfield['ez_restV'] - searchfield['ez_restJ']\n",
    "\n",
    "colors = searchfield['u-b', 'b-v', 'v-j']\n",
    "colors"
   ]
  },
  {
   "cell_type": "code",
   "execution_count": 40,
   "id": "69a4bdbd-80d7-4001-b5c4-bb5fb38539ce",
   "metadata": {},
   "outputs": [
    {
     "data": {
      "text/plain": [
       "<bound method DataFrame.sum of          u-b    b-v    v-j\n",
       "0       True   True   True\n",
       "1      False  False  False\n",
       "2      False  False  False\n",
       "3      False  False  False\n",
       "4      False  False  False\n",
       "...      ...    ...    ...\n",
       "12484  False  False  False\n",
       "12485  False  False  False\n",
       "12486   True   True   True\n",
       "12487  False  False  False\n",
       "12488   True   True   True\n",
       "\n",
       "[12489 rows x 3 columns]>"
      ]
     },
     "execution_count": 40,
     "metadata": {},
     "output_type": "execute_result"
    }
   ],
   "source": [
    "colors_pandas = colors.to_pandas()\n",
    "colors_pandas.isnull().sum"
   ]
  },
  {
   "cell_type": "code",
   "execution_count": 41,
   "id": "98bb57ea-84b3-4568-b4b2-00f5effcecf8",
   "metadata": {},
   "outputs": [],
   "source": [
    "#get rid of all nulls\n",
    "\n",
    "colors_clean_pandas = colors_pandas.dropna()\n",
    "#show resulting prepared data\n",
    "colors_clean = table.Table.from_pandas(colors_clean_pandas)"
   ]
  },
  {
   "cell_type": "code",
   "execution_count": 42,
   "id": "9753827f-223c-45e8-a9a0-6833cec26767",
   "metadata": {},
   "outputs": [
    {
     "data": {
      "text/plain": [
       "<bound method DataFrame.sum of          u-b    b-v    v-j\n",
       "1      False  False  False\n",
       "2      False  False  False\n",
       "3      False  False  False\n",
       "4      False  False  False\n",
       "5      False  False  False\n",
       "...      ...    ...    ...\n",
       "12482  False  False  False\n",
       "12483  False  False  False\n",
       "12484  False  False  False\n",
       "12485  False  False  False\n",
       "12487  False  False  False\n",
       "\n",
       "[11655 rows x 3 columns]>"
      ]
     },
     "execution_count": 42,
     "metadata": {},
     "output_type": "execute_result"
    }
   ],
   "source": [
    "# show null/nonnull state of the data\n",
    "colors_clean_pandas.isnull().sum"
   ]
  },
  {
   "cell_type": "code",
   "execution_count": 43,
   "id": "bc15d0a2-a76e-4770-9b42-fb5af4a144c3",
   "metadata": {},
   "outputs": [],
   "source": [
    "#kick pandas, keep numpy\n",
    "colors_clean_numpy = colors_clean_pandas.to_numpy()"
   ]
  },
  {
   "cell_type": "markdown",
   "id": "7d4c5979-1375-467d-8a09-cf20ad0dffc1",
   "metadata": {},
   "source": [
    "\n",
    "# Outlier detection with Local Outlier Factor (LOF)\n",
    "\n",
    "The Local Outlier Factor (LOF) algorithm is an unsupervised anomaly detection\n",
    "method which computes the local density deviation of a given data point with\n",
    "respect to its neighbors. It considers as outliers the samples that have a\n",
    "substantially lower density than their neighbors. This example shows how to use\n",
    "LOF for outlier detection which is the default use case of this estimator in\n",
    "scikit-learn. Note that when LOF is used for outlier detection it has no\n",
    "`predict`, `decision_function` and `score_samples` methods. See the `User\n",
    "Guide <outlier_detection>` for details on the difference between outlier\n",
    "detection and novelty detection and how to use LOF for novelty detection.\n",
    "\n",
    "The number of neighbors considered (parameter `n_neighbors`) is typically set 1)\n",
    "greater than the minimum number of samples a cluster has to contain, so that\n",
    "other samples can be local outliers relative to this cluster, and 2) smaller\n",
    "than the maximum number of close by samples that can potentially be local\n",
    "outliers. In practice, such information is generally not available, and taking\n",
    "`n_neighbors=20` appears to work well in general.\n"
   ]
  },
  {
   "cell_type": "code",
   "execution_count": 47,
   "id": "a40724e0-e8a1-402d-946e-f12a93c0ee20",
   "metadata": {},
   "outputs": [
    {
     "data": {
      "text/plain": [
       "array([-0.10416583, -0.14766398, -0.0105067 , ..., -0.12511131,\n",
       "        0.00624949, -0.05405758], dtype=float32)"
      ]
     },
     "execution_count": 47,
     "metadata": {},
     "output_type": "execute_result"
    }
   ],
   "source": [
    "u_b = colors_clean['u-b']\n",
    "np.array(u_b)\n"
   ]
  },
  {
   "cell_type": "code",
   "execution_count": 48,
   "id": "43235f7f-bcd2-4b70-b720-69bcb5e3073c",
   "metadata": {
    "collapsed": false,
    "jupyter": {
     "outputs_hidden": false
    }
   },
   "outputs": [
    {
     "name": "stdout",
     "output_type": "stream",
     "text": [
      "[[-0.10416583 -0.07713988 -0.13230723]\n",
      " [-0.14766398 -0.1230467  -0.35562176]\n",
      " [-0.0105067  -0.01564826 -0.08826318]\n",
      " ...\n",
      " [-0.12511131 -0.04613334 -0.10264656]\n",
      " [ 0.00624949  0.00402181 -0.06579158]\n",
      " [-0.05405758 -0.03085174 -0.3152    ]]\n",
      "the shape of data_to_analyze is, after computation: (11655, 3)\n"
     ]
    }
   ],
   "source": [
    "print(colors_clean_numpy)\n",
    "colors_clean_numpy.shape\n",
    "\n",
    "data_to_analyze = colors_clean_numpy\n",
    "\n",
    "print(\"the shape of data_to_analyze is, after computation:\", data_to_analyze.shape)\n",
    "#a bit broken\n",
    "n_outliers = len(data_to_analyze)\n",
    "ground_truth = np.ones(len(data_to_analyze), dtype=int)\n",
    "ground_truth[-n_outliers:] = -1"
   ]
  },
  {
   "cell_type": "markdown",
   "id": "97c15bdb-1905-40f2-bc36-b64579d2b385",
   "metadata": {},
   "source": [
    "## Fit the model for outlier detection (default)\n",
    "\n",
    "Use `fit_predict` to compute the predicted labels of the training samples\n",
    "(when LOF is used for outlier detection, the estimator has no `predict`,\n",
    "`decision_function` and `score_samples` methods).\n",
    "\n"
   ]
  },
  {
   "cell_type": "code",
   "execution_count": 59,
   "id": "6413fb2c-f861-4836-bc4b-753cd1552ed3",
   "metadata": {
    "collapsed": false,
    "jupyter": {
     "outputs_hidden": false
    }
   },
   "outputs": [],
   "source": [
    "from sklearn.neighbors import LocalOutlierFactor\n",
    "\n",
    "clf = LocalOutlierFactor(n_neighbors=10, contamination=0.01)\n",
    "y_pred = clf.fit_predict(colors_clean_numpy)\n",
    "n_errors = (y_pred != ground_truth).sum()\n",
    "data_to_analyze_scores = clf.negative_outlier_factor_"
   ]
  },
  {
   "cell_type": "markdown",
   "id": "748a3fe8-83ec-4854-9867-04717f6e1b86",
   "metadata": {},
   "source": [
    "## Plot results\n",
    "\n"
   ]
  },
  {
   "cell_type": "code",
   "execution_count": 60,
   "id": "0c0ef95e-6722-4d7a-9862-4ea45a75ef26",
   "metadata": {
    "collapsed": false,
    "jupyter": {
     "outputs_hidden": false
    }
   },
   "outputs": [
    {
     "data": {
      "image/png": "[encoded data removed]",
      "text/plain": [
       "<Figure size 640x480 with 1 Axes>"
      ]
     },
     "metadata": {},
     "output_type": "display_data"
    }
   ],
   "source": [
    "#a bit slow but who cares\n",
    "import matplotlib.pyplot as plt\n",
    "from matplotlib.legend_handler import HandlerPathCollection\n",
    "\n",
    "\n",
    "def update_legend_marker_size(handle, orig):\n",
    "    \"Customize size of the legend marker\"\n",
    "    handle.update_from(orig)\n",
    "    handle.set_sizes([20])\n",
    "\n",
    "\n",
    "plt.scatter(data_to_analyze[:, 0], data_to_analyze[:, 1], color=\"k\", s=3.0, label=\"Data points\")\n",
    "# plot circles with radius proportional to the outlier scores\n",
    "radius = (data_to_analyze_scores.max() - data_to_analyze_scores) / (data_to_analyze_scores.max() - data_to_analyze_scores.min())\n",
    "scatter = plt.scatter(\n",
    "    data_to_analyze[:, 0],\n",
    "    data_to_analyze[:, 1],\n",
    "    s=1000 * radius,\n",
    "    edgecolors=\"r\",\n",
    "    facecolors=\"none\",\n",
    "    label=\"Outlier scores\",\n",
    ")\n",
    "plt.axis(\"tight\")\n",
    "plt.xlim((-5, 5))\n",
    "plt.ylim((-5, 5))\n",
    "plt.xlabel(\"prediction errors: %d\" % (n_errors))\n",
    "plt.legend(\n",
    "    handler_map={scatter: HandlerPathCollection(update_func=update_legend_marker_size)}\n",
    ")\n",
    "plt.title(\"Local Outlier Factor (LOF)\")\n",
    "plt.show()"
   ]
  },
  {
   "cell_type": "code",
   "execution_count": null,
   "id": "f4da568e-f653-450f-9165-e61dae6a4ffe",
   "metadata": {},
   "outputs": [],
   "source": []
  }
 ],
 "metadata": {
  "kernelspec": {
   "display_name": "Python 3 (ipykernel)",
   "language": "python",
   "name": "python3"
  },
  "language_info": {
   "codemirror_mode": {
    "name": "ipython",
    "version": 3
   },
   "file_extension": ".py",
   "mimetype": "text/x-python",
   "name": "python",
   "nbconvert_exporter": "python",
   "pygments_lexer": "ipython3",
   "version": "3.11.9"
  }
 },
 "nbformat": 4,
 "nbformat_minor": 5
}
