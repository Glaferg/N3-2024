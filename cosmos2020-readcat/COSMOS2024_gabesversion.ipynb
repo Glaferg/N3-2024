{
 "cells": [
  {
   "cell_type": "code",
   "execution_count": 1,
   "id": "89f20f22-a546-4354-a598-4cbd87febda5",
   "metadata": {},
   "outputs": [],
   "source": [
    "%matplotlib inline \n",
    "import numpy as np \n",
    "from matplotlib import pyplot as plt \n",
    "import h5py # used in the Data Visualization section \n",
    "\n",
    "from astropy.io import fits,ascii,votable\n",
    "from astropy import units as u \n",
    "from astropy import constants as const\n",
    "from astropy import table\n",
    "from astropy.cosmology import Planck15,FlatLambdaCDM\n",
    "\n",
    "# For ML application\n",
    "from sklearn.cluster import KMeans\n",
    "from sklearn import mixture\n",
    "from itertools import combinations\n",
    "import pandas"
   ]
  },
  {
   "cell_type": "code",
   "execution_count": 2,
   "id": "01fd320e-0749-4504-8f24-e243a348253b",
   "metadata": {},
   "outputs": [],
   "source": [
    "# Specify the version of the catalog and the folder with the input/output files\n",
    "catversion = 'Farmer'  # this string can be either 'Classic' or 'Farmer'\n",
    "dir_in = '/Users/gabriel/Documents/N3_code/COSMOS2020.R1_v2.2-nochi2/'  \n",
    "dir_out = 'experiment_notebook_output/'  # the directory where the output of this notebook will be stored"
   ]
  },
  {
   "cell_type": "code",
   "execution_count": 3,
   "id": "9f353b6b-13ed-4011-b154-b12598bd515e",
   "metadata": {},
   "outputs": [],
   "source": [
    "# Chose the SED fitting code: \n",
    "# set to 'lp' for LePhare results or\n",
    "# set to 'ez' for EAZY\n",
    "fitversion = 'ez'  "
   ]
  },
  {
   "cell_type": "code",
   "execution_count": 4,
   "id": "b640bad6-d317-4259-978f-4f2e117a0b79",
   "metadata": {},
   "outputs": [],
   "source": [
    "# Which type of photometric estimates to use? (suffix of the column name)\n",
    "# This choice must be consistent with `catversion`,\n",
    "# choices for Classic are: '_FLUX_APER2', '_FLUX_APER3', '_MAG_APER2,', '_MAG_APER3'\n",
    "# choices for Farmer are '_FLUX' or '_MAG' \n",
    "flx = '_FLUX'  \n",
    "flxerr = '_FLUXERR'  # catalog column for flux/mag error, just add 'ERR'\n",
    "outflx = 'cgs' # 'cgs' or 'uJy'"
   ]
  },
  {
   "cell_type": "markdown",
   "id": "16e05d9a-b648-4617-8d8e-0a418cedc441",
   "metadata": {},
   "source": [
    "There are several pararemeters regarding the telescope filters used for observations. They are collectively stored in a dictionary. "
   ]
  },
  {
   "cell_type": "code",
   "execution_count": 5,
   "id": "683cb73b-66db-4d85-a638-fd868b0b5f84",
   "metadata": {},
   "outputs": [],
   "source": [
    "# Filter names, mean wavelength, and other info (see Table 1 in W+21)\n",
    "filt_name = ['GALEX_FUV', 'GALEX_NUV','CFHT_u','CFHT_ustar','HSC_g', 'HSC_r', 'HSC_i', 'HSC_z', 'HSC_y', 'UVISTA_Y', 'UVISTA_J', 'UVISTA_H', 'UVISTA_Ks', 'SC_IB427', 'SC_IB464', 'SC_IA484', 'SC_IB505', 'SC_IA527', 'SC_IB574', 'SC_IA624', 'SC_IA679', 'SC_IB709', 'SC_IA738', 'SC_IA767', 'SC_IB827', 'SC_NB711', 'SC_NB816', 'UVISTA_NB118', 'SC_B', 'SC_gp', 'SC_V', 'SC_rp', 'SC_ip','SC_zp', 'SC_zpp', 'IRAC_CH1', 'IRAC_CH2', 'IRAC_CH3','IRAC_CH4']  \n",
    "filt_lambda = [0.1526,0.2307,0.3709,0.3858,0.4847,0.6219,0.7699,0.8894,0.9761,1.0216,1.2525,1.6466,2.1557,0.4266,0.4635,0.4851,0.5064,0.5261,0.5766,0.6232,0.6780,0.7073,0.7361,0.7694,0.8243,0.7121,0.8150,1.1909,0.4488,0.4804,0.5487,0.6305,0.7693,0.8978,0.9063,3.5686,4.5067,5.7788,7.9958]\n",
    "filt_fwhm = [0.0224,0.07909,0.05181,0.05976,0.1383,0.1547,0.1471,0.0766,0.0786,0.0923,0.1718,0.2905,0.3074,0.02073,0.02182,0.02292,0.0231,0.02429,0.02729,0.03004,0.03363,0.03163,0.03235,0.03648,0.0343,0.0072,0.01198,0.01122,0.0892,0.1265,0.0954,0.1376,0.1497,0.0847,0.1335,0.7443,1.0119,1.4082,2.8796] \n",
    "# corresponding MW attenuation from Schelgel \n",
    "AlambdaDivEBV = [8.31,8.742,4.807,4.674,3.69,2.715,2.0,1.515,1.298,1.213,0.874,0.565,0.365,4.261,3.844,3.622,3.425,3.265,2.938,2.694,2.431,2.29,2.151,1.997,1.748,2.268,1.787,0.946,4.041,3.738,3.128,2.673,2.003,1.436,1.466,0.163,0.112,0.075,0.045]\n",
    "# photometric offsets (not available for all filters, see Table 3 in W+21)\n",
    "zpoff1 = [0.000,-0.352,-0.077,-0.023,0.073,0.101,0.038,0.036,0.086,0.054,0.017,-0.045,0.000,-0.104,-0.044,-0.021,-0.018,-0.045,-0.084,0.005,0.166,-0.023,-0.034,-0.032,-0.069,-0.010,-0.064,0.000,0.000,0.000,0.000,0.000,0.000,0.000,0.000,-0.212,-0.219,0.000,0.000]  # Farmer+LePhare\n",
    "zpoff2 = [0.000,-0.029,-0.006,0.053,0.128,0.127,0.094,0.084,0.100,0.049,0.025,-0.044,0.000,-0.013,-0.008,0.022,0.025,0.033,-0.032,0.031,0.208,-0.009,0.003,-0.015,-0.001,0.023,-0.021,-0.017,-0.075,0.000,0.123,0.035,0.051,0.000,0.095,-0.087,-0.111,0.000,0.000]  # Classic+LePhare\n",
    "zpoff3 = [0.000,0.000,-0.196,-0.054,0.006,0.090,0.043,0.071,0.118,0.078,0.047,-0.034,0.000,-0.199,-0.129,-0.084,-0.073,-0.087,-0.124,0.004,0.154,-0.022,-0.030,-0.013,-0.057,0.000,0.000,0.000,0.000,0.000,0.000,0.000,0.000,0.000,0.000,-0.102,-0.044,0.000,0.000] # Farmer+EAZY\n",
    "zpoff4 = [0.000,0.000,0.000,-0.021,0.055,0.124,0.121,0.121,0.145,0.085,0.057,-0.036,0.000,-0.133,-0.098,-0.046,-0.037,-0.038,-0.062,0.038,0.214,0.024,0.022,0.01,0.022,0.000,0.000,0.00,0.00,0.00,0.00,0.00,0.00,0.00,0.00,0.021,0.025,0.000,0.000] # Classic+EAZY\n",
    "# create the dictionary\n",
    "filt_dict = {filt_name[i]:(filt_lambda[i]*1e4,filt_fwhm[i]*1e4,AlambdaDivEBV[i],[zpoff1[i],zpoff2[i],zpoff3[i],zpoff4[i]]) for i in range(len(filt_name))}"
   ]
  },
  {
   "cell_type": "markdown",
   "id": "a950d873-cb69-414f-9df2-16f5c2d8b048",
   "metadata": {},
   "source": [
    "--------------------\n",
    "## Data preparation\n",
    "\n",
    "This section includes corrections due to Milky Way foreground extinction, photometric offsets, and flux loss in case of aperture photometry. Here, a subsample of the catalogue (either by rows or columns) can also be selected, and the table re-formatted to be saved as a different file."
   ]
  },
  {
   "cell_type": "code",
   "execution_count": 6,
   "id": "6904288b-4bef-450e-b7fa-3760aaf83939",
   "metadata": {},
   "outputs": [
    {
     "name": "stderr",
     "output_type": "stream",
     "text": [
      "WARNING: UnitsWarning: 'log(solMass)' did not parse as fits unit: 'log' is not a recognized function If this is meant to be a custom unit, define it with 'u.def_unit'. To have it recognized inside a file reader or other code, enable it with 'u.add_enabled_units'. For details, see https://docs.astropy.org/en/latest/units/combining_and_defining.html [astropy.units.core]\n",
      "WARNING: UnitsWarning: 'log(solMass/yr)' did not parse as fits unit: 'log' is not a recognized function If this is meant to be a custom unit, define it with 'u.def_unit'. To have it recognized inside a file reader or other code, enable it with 'u.add_enabled_units'. For details, see https://docs.astropy.org/en/latest/units/combining_and_defining.html [astropy.units.core]\n",
      "WARNING: UnitsWarning: 'log(yr**(-1))' did not parse as fits unit: 'log' is not a recognized function If this is meant to be a custom unit, define it with 'u.def_unit'. To have it recognized inside a file reader or other code, enable it with 'u.add_enabled_units'. For details, see https://docs.astropy.org/en/latest/units/combining_and_defining.html [astropy.units.core]\n",
      "WARNING: UnitsWarning: 'log(solLum)' did not parse as fits unit: 'log' is not a recognized function If this is meant to be a custom unit, define it with 'u.def_unit'. To have it recognized inside a file reader or other code, enable it with 'u.add_enabled_units'. For details, see https://docs.astropy.org/en/latest/units/combining_and_defining.html [astropy.units.core]\n"
     ]
    }
   ],
   "source": [
    "# Upload the main catalogue\n",
    "cat0 = table.Table.read(dir_in+'COSMOS2020_{}_R1_v2.2_p3.fits'.format(catversion.upper()),format='fits',hdu=1)"
   ]
  },
  {
   "cell_type": "code",
   "execution_count": 7,
   "id": "25993b6c-8f07-476c-8708-ca3df98397d7",
   "metadata": {},
   "outputs": [],
   "source": [
    "# Create a mask to restrict the analysis to a subset of filters (optional)\n",
    "# filt_use = ['CFHT_ustar', 'CFHT_u', 'HSC_g', 'HSC_r', 'HSC_i', 'HSC_z', 'HSC_y', 'UVISTA_Y', 'UVISTA_J', 'UVISTA_H', 'UVISTA_Ks', 'IRAC_CH1', 'IRAC_CH2']\n",
    "# filt_mask = [i in filt_use for i in filt_name]\n",
    "\n",
    "#to turn off filter:\n",
    "filt_use = ['CFHT_ustar', 'CFHT_u', 'HSC_g', 'HSC_r', 'HSC_i', 'HSC_z', 'HSC_y', 'UVISTA_Y', 'UVISTA_J', 'UVISTA_H', 'UVISTA_Ks', 'IRAC_CH1', 'IRAC_CH2']\n",
    "filt_mask = []"
   ]
  },
  {
   "cell_type": "code",
   "execution_count": 8,
   "id": "37b1fc78-8caa-4fb6-9d97-c20930a0dc9e",
   "metadata": {},
   "outputs": [
    {
     "data": {
      "text/plain": [
       "<TableColumns names=('ID','ALPHA_J2000','DELTA_J2000','X_MODEL','Y_MODEL','ERRX_MODEL','ERRY_MODEL','ALPHA_DETECTION','DELTA_DETECTION','FARMER_ID','GROUP_ID','N_GROUP','MODEL_FLAG','SOLUTION_MODEL','FLAG_HSC','FLAG_SUPCAM','FLAG_UDEEP','FLAG_UVISTA','FLAG_COMBINED','EBV_MW','CFHT_u_FLUX','CFHT_u_FLUXERR','CFHT_u_MAG','CFHT_u_MAGERR','CFHT_u_CHISQ','CFHT_u_DRIFT','CFHT_u_VALID','CFHT_ustar_FLUX','CFHT_ustar_FLUXERR','CFHT_ustar_MAG','CFHT_ustar_MAGERR','CFHT_ustar_CHISQ','CFHT_ustar_DRIFT','CFHT_ustar_VALID','HSC_g_FLUX','HSC_g_FLUXERR','HSC_g_MAG','HSC_g_MAGERR','HSC_g_CHISQ','HSC_g_DRIFT','HSC_g_VALID','HSC_r_FLUX','HSC_r_FLUXERR','HSC_r_MAG','HSC_r_MAGERR','HSC_r_CHISQ','HSC_r_DRIFT','HSC_r_VALID','HSC_i_FLUX','HSC_i_FLUXERR','HSC_i_MAG','HSC_i_MAGERR','HSC_i_CHISQ','HSC_i_DRIFT','HSC_i_VALID','HSC_z_FLUX','HSC_z_FLUXERR','HSC_z_MAG','HSC_z_MAGERR','HSC_z_CHISQ','HSC_z_DRIFT','HSC_z_VALID','HSC_y_FLUX','HSC_y_FLUXERR','HSC_y_MAG','HSC_y_MAGERR','HSC_y_CHISQ','HSC_y_DRIFT','HSC_y_VALID','UVISTA_Y_FLUX','UVISTA_Y_FLUXERR','UVISTA_Y_MAG','UVISTA_Y_MAGERR','UVISTA_Y_CHISQ','UVISTA_Y_DRIFT','UVISTA_Y_VALID','UVISTA_J_FLUX','UVISTA_J_FLUXERR','UVISTA_J_MAG','UVISTA_J_MAGERR','UVISTA_J_CHISQ','UVISTA_J_DRIFT','UVISTA_J_VALID','UVISTA_H_FLUX','UVISTA_H_FLUXERR','UVISTA_H_MAG','UVISTA_H_MAGERR','UVISTA_H_CHISQ','UVISTA_H_DRIFT','UVISTA_H_VALID','UVISTA_Ks_FLUX','UVISTA_Ks_FLUXERR','UVISTA_Ks_MAG','UVISTA_Ks_MAGERR','UVISTA_Ks_CHISQ','UVISTA_Ks_DRIFT','UVISTA_Ks_VALID','UVISTA_NB118_FLUX','UVISTA_NB118_FLUXERR','UVISTA_NB118_MAG','UVISTA_NB118_MAGERR','UVISTA_NB118_CHISQ','UVISTA_NB118_DRIFT','UVISTA_NB118_VALID','SC_IB427_FLUX','SC_IB427_FLUXERR','SC_IB427_MAG','SC_IB427_MAGERR','SC_IB427_CHISQ','SC_IB427_DRIFT','SC_IB427_VALID','SC_IB464_FLUX','SC_IB464_FLUXERR','SC_IB464_MAG','SC_IB464_MAGERR','SC_IB464_CHISQ','SC_IB464_DRIFT','SC_IB464_VALID','SC_IA484_FLUX','SC_IA484_FLUXERR','SC_IA484_MAG','SC_IA484_MAGERR','SC_IA484_CHISQ','SC_IA484_DRIFT','SC_IA484_VALID','SC_IB505_FLUX','SC_IB505_FLUXERR','SC_IB505_MAG','SC_IB505_MAGERR','SC_IB505_CHISQ','SC_IB505_DRIFT','SC_IB505_VALID','SC_IA527_FLUX','SC_IA527_FLUXERR','SC_IA527_MAG','SC_IA527_MAGERR','SC_IA527_CHISQ','SC_IA527_DRIFT','SC_IA527_VALID','SC_IB574_FLUX','SC_IB574_FLUXERR','SC_IB574_MAG','SC_IB574_MAGERR','SC_IB574_CHISQ','SC_IB574_DRIFT','SC_IB574_VALID','SC_IA624_FLUX','SC_IA624_FLUXERR','SC_IA624_MAG','SC_IA624_MAGERR','SC_IA624_CHISQ','SC_IA624_DRIFT','SC_IA624_VALID','SC_IA679_FLUX','SC_IA679_FLUXERR','SC_IA679_MAG','SC_IA679_MAGERR','SC_IA679_CHISQ','SC_IA679_DRIFT','SC_IA679_VALID','SC_IB709_FLUX','SC_IB709_FLUXERR','SC_IB709_MAG','SC_IB709_MAGERR','SC_IB709_CHISQ','SC_IB709_DRIFT','SC_IB709_VALID','SC_IA738_FLUX','SC_IA738_FLUXERR','SC_IA738_MAG','SC_IA738_MAGERR','SC_IA738_CHISQ','SC_IA738_DRIFT','SC_IA738_VALID','SC_IA767_FLUX','SC_IA767_FLUXERR','SC_IA767_MAG','SC_IA767_MAGERR','SC_IA767_CHISQ','SC_IA767_DRIFT','SC_IA767_VALID','SC_IB827_FLUX','SC_IB827_FLUXERR','SC_IB827_MAG','SC_IB827_MAGERR','SC_IB827_CHISQ','SC_IB827_DRIFT','SC_IB827_VALID','SC_NB711_FLUX','SC_NB711_FLUXERR','SC_NB711_MAG','SC_NB711_MAGERR','SC_NB711_CHISQ','SC_NB711_DRIFT','SC_NB711_VALID','SC_NB816_FLUX','SC_NB816_FLUXERR','SC_NB816_MAG','SC_NB816_MAGERR','SC_NB816_CHISQ','SC_NB816_DRIFT','SC_NB816_VALID','IRAC_CH1_FLUX','IRAC_CH1_FLUXERR','IRAC_CH1_MAG','IRAC_CH1_MAGERR','IRAC_CH1_CHISQ','IRAC_CH1_DRIFT','IRAC_CH1_VALID','IRAC_CH2_FLUX','IRAC_CH2_FLUXERR','IRAC_CH2_MAG','IRAC_CH2_MAGERR','IRAC_CH2_CHISQ','IRAC_CH2_DRIFT','IRAC_CH2_VALID','IRAC_CH3_FLUX','IRAC_CH3_FLUXERR','IRAC_CH3_MAG','IRAC_CH3_MAGERR','IRAC_CH3_CHISQ','IRAC_CH3_DRIFT','IRAC_CH3_VALID','IRAC_CH4_FLUX','IRAC_CH4_FLUXERR','IRAC_CH4_MAG','IRAC_CH4_MAGERR','IRAC_CH4_CHISQ','IRAC_CH4_DRIFT','IRAC_CH4_VALID','ID_GALEX','GALEX_NUV_FLUX','GALEX_NUV_FLUXERR','GALEX_NUV_MAG','GALEX_NUV_MAGERR','GALEX_FUV_FLUX','GALEX_FUV_FLUXERR','GALEX_FUV_MAG','GALEX_FUV_MAGERR','ID_COSMOS2015','SPLASH_CH1_FLUX','SPLASH_CH1_FLUXERR','SPLASH_CH1_MAG','SPLASH_CH1_MAGERR','SPLASH_CH2_FLUX','SPLASH_CH2_FLUXERR','SPLASH_CH2_MAG','SPLASH_CH2_MAGERR','SPLASH_CH3_FLUX','SPLASH_CH3_FLUXERR','SPLASH_CH3_MAG','SPLASH_CH3_MAGERR','SPLASH_CH4_FLUX','SPLASH_CH4_FLUXERR','SPLASH_CH4_MAG','SPLASH_CH4_MAGERR','ID_ACS','ACS_F814W_MAG','ACS_F814W_MAGERR','ACS_F814W_FLUX','ACS_F814W_FLUXERR','ACS_A_WORLD','ACS_B_WORLD','ACS_THETA_WORLD','ACS_FWHM_WORLD','ACS_MU_MAX','ACS_MU_CLASS','ID_CHANDRA','ID_CLASSIC','lp_zBEST','lp_type','lp_zPDF','lp_zPDF_l68','lp_zPDF_u68','lp_zMinChi2','lp_chi2_best','lp_zp_2','lp_chi2_2','lp_NbFilt','lp_zq','lp_chiq','lp_modq','lp_mods','lp_chis','lp_mask','lp_model','lp_age','lp_dust','lp_Attenuation','lp_MFUV','lp_MNUV','lp_MU','lp_MG','lp_MR','lp_MI','lp_MZ','lp_MY','lp_MJ','lp_MH','lp_MK','lp_mass_med','lp_mass_med_min68','lp_mass_med_max68','lp_mass_best','lp_SFR_med','lp_SFR_med_min68','lp_SFR_med_max68','lp_SFR_best','lp_sSFR_med','lp_sSFR_med_min68','lp_sSFR_med_max68','lp_sSFR_best','ez_z_phot','ez_z_phot_chi2','ez_z_phot_risk','ez_z_min_risk','ez_min_risk','ez_z_raw_chi2','ez_raw_chi2','ez_z025','ez_z160','ez_z500','ez_z840','ez_z975','ez_nusefilt','ez_lc_min','ez_lc_max','ez_star_min_chi2','ez_star_teff','ez_restU','ez_restU_err','ez_restB','ez_restB_err','ez_restV','ez_restV_err','ez_restJ','ez_restJ_err','ez_dL','ez_mass','ez_sfr','ez_ssfr','ez_Lv','ez_LIR','ez_energy_abs','ez_Lu','ez_Lj','ez_L1400','ez_L2800','ez_LHa','ez_LOIII','ez_LHb','ez_LOII','ez_MLv','ez_Av','ez_lwAgeV','ez_mass_p025','ez_mass_p160','ez_mass_p500','ez_mass_p840','ez_mass_p975','ez_sfr_p025','ez_sfr_p160','ez_sfr_p500','ez_sfr_p840','ez_sfr_p975','ez_Lv_p025','ez_Lv_p160','ez_Lv_p500','ez_Lv_p840','ez_Lv_p975','ez_LIR_p025','ez_LIR_p160','ez_LIR_p500','ez_LIR_p840','ez_LIR_p975','ez_energy_abs_p025','ez_energy_abs_p160','ez_energy_abs_p500','ez_energy_abs_p840','ez_energy_abs_p975','ez_Lu_p025','ez_Lu_p160','ez_Lu_p500','ez_Lu_p840','ez_Lu_p975','ez_Lj_p025','ez_Lj_p160','ez_Lj_p500','ez_Lj_p840','ez_Lj_p975','ez_L1400_p025','ez_L1400_p160','ez_L1400_p500','ez_L1400_p840','ez_L1400_p975','ez_L2800_p025','ez_L2800_p160','ez_L2800_p500','ez_L2800_p840','ez_L2800_p975','ez_LHa_p025','ez_LHa_p160','ez_LHa_p500','ez_LHa_p840','ez_LHa_p975','ez_LOIII_p025','ez_LOIII_p160','ez_LOIII_p500','ez_LOIII_p840','ez_LOIII_p975','ez_LHb_p025','ez_LHb_p160','ez_LHb_p500','ez_LHb_p840','ez_LHb_p975','ez_LOII_p025','ez_LOII_p160','ez_LOII_p500','ez_LOII_p840','ez_LOII_p975','ez_ssfr_p025','ez_ssfr_p160','ez_ssfr_p500','ez_ssfr_p840','ez_ssfr_p975','ez_Av_p025','ez_Av_p160','ez_Av_p500','ez_Av_p840','ez_Av_p975')>"
      ]
     },
     "execution_count": 8,
     "metadata": {},
     "output_type": "execute_result"
    }
   ],
   "source": [
    "# Have a quick look inside the table\n",
    "cat0[[0,-1]]\n",
    "cat0.columns"
   ]
  },
  {
   "cell_type": "markdown",
   "id": "d45d2750-7ae7-4be3-8091-1f6c87a41442",
   "metadata": {},
   "source": [
    "### Flags (rows selection)\n",
    "\n",
    "Flags are used to (de-)select certain areas of the $2\\,deg^2$ COSMOS field. For example, by imposing `FLAG_HSC`equal to zero, only objects within the effective area of Subaru/HyperSuprimeCam are selected (i.e., observed by HSC and outside bright star regions). \n",
    "\n",
    "The **most important flag** is `FLAG_COMBINED` to remove areas with either unreliable photometry or partial coverage. We strongly recommend to set `FLAG_COMBINED==0` before starting your analysis. \n",
    "\n",
    "Please also note that the format of photometric columns (fluxes, magnitudes) is  **masked columns**, useful to single out certain entries from the table."
   ]
  },
  {
   "cell_type": "code",
   "execution_count": 9,
   "id": "c301290e-dacd-4452-b04d-6c7b0da76e47",
   "metadata": {
    "editable": true,
    "slideshow": {
     "slide_type": ""
    },
    "tags": []
   },
   "outputs": [
    {
     "name": "stdout",
     "output_type": "stream",
     "text": [
      "The parent sample includes 964506 sources\n",
      "Now restricted to 746976 sources by using FLAG_COMBINED\n"
     ]
    }
   ],
   "source": [
    "whichflag = 'COMBINED'  # you can try HSC, SUPCAM, UVISTA, UDEEP, COMBINED\n",
    "print('The parent sample includes {} sources'.format(len(cat0)))\n",
    "cat0 = cat0[cat0['FLAG_{}'.format(whichflag)]==0]\n",
    "print('Now restricted to {} sources by using FLAG_COMBINED'.format(len(cat0)))"
   ]
  },
  {
   "cell_type": "markdown",
   "id": "281925db-3f4b-47d6-88a3-85a5e42ef66e",
   "metadata": {},
   "source": [
    "### Correcting for MW extinction\n",
    "\n",
    "The following two cells remove the foreground extinction by the Milky Way (MW)."
   ]
  },
  {
   "cell_type": "code",
   "execution_count": 10,
   "id": "40a170fc-c8ed-4153-9590-d6ab66a791e3",
   "metadata": {},
   "outputs": [],
   "source": [
    "def mw_corr(tab_in,f_dict,ebv_col='EBV_MW',flx_col='_FLUX',flxerr_col='_FLUXERR',only_filt=[],skip_filt=[],verbose=False,out=False):\n",
    "    \"\"\"\n",
    "    Parameters\n",
    "    ----------\n",
    "    tab_in : astropy table of COSMOS2020\n",
    "    f_dict : dictionary with filter info\n",
    "    ebv_col : name of the `tab_in` column containing the E(B-V) from Milky Way\n",
    "    flx_col : name of the `tab_in` column containing the flux\n",
    "    flxerr_col : name of the `tab_in` column containing the flux error bar\n",
    "    only_filt : list of the filters to be processed (filter names as in `f_dict`)\n",
    "    skip_filt : list of the filters NOT to be processed (filter names as in `f_dict`)\n",
    "    verbose : if True, print a verbose output\n",
    "    out : if True, return a new table with the changes; if False, overwrite `tab_in`\n",
    "    \"\"\"\n",
    "    \n",
    "    if 'FLUX' in flx_col: flux=True\n",
    "    else: flux=False\n",
    "    if out: tab = tab_in.copy()\n",
    "    else: tab = tab_in\n",
    "    ff = f_dict.keys()\n",
    "    if len(only_filt)>0 : ff = only_filt\n",
    "    for c in ff:\n",
    "        if verbose: print('remove MW attenuation in ',c+flx_col,f_dict[c][2])\n",
    "        if c not in skip_filt:\n",
    "            atten = f_dict[c][2]*tab[ebv_col]\n",
    "            if flux:    tab[c+flx_col] *= np.power(10.,0.4*atten)\n",
    "            else:    tab[c+flx_col] -= atten             \n",
    "        else:\n",
    "            if verbose: print('Skip filter',c)       \n",
    "    if out: return tab"
   ]
  },
  {
   "cell_type": "code",
   "execution_count": 11,
   "id": "9a76968a-ae9e-4264-b488-52606dd87b4b",
   "metadata": {
    "scrolled": true
   },
   "outputs": [],
   "source": [
    "# Here, the function creates a new table but\n",
    "# it is also possible to overwrite the original table `cat0`\n",
    "if catversion.lower()=='classic' and flx!='_FLUX' and flx!='_MAG':  \n",
    "    # it means you are using aperture or AUTO flux/mag, which are not available for IRAC and GALEX \n",
    "    cat1 = mw_corr(cat0,filt_dict,flx_col=flx,flxerr_col=flxerr,only_filt=filt_use,skip_filt=['IRAC_CH1', 'IRAC_CH2', 'GALEX_FUV', 'GALEX_NUV'],out=True) # fluxes are  in uJy (zero point = 23.9)\n",
    "    # therefore, IRAC and GALEX have to be taken into account separately:\n",
    "    mw_corr(cat1,filt_dict,flx_col='_FLUX',flxerr_col='_FLUXERR',only_filt=['IRAC_CH1', 'IRAC_CH2', 'GALEX_FUV', 'GALEX_NUV']) \n",
    "else:\n",
    "    # otherwise, all filters have the same suffix\n",
    "    cat1 = mw_corr(cat0,filt_dict,flx_col=flx,flxerr_col=flxerr,only_filt=filt_use,out=True)  # all bands have same column suffix"
   ]
  },
  {
   "cell_type": "markdown",
   "id": "9dfdced2-e2f8-48d4-baaa-aeb41cbda2e7",
   "metadata": {
    "editable": true,
    "slideshow": {
     "slide_type": ""
    },
    "tags": []
   },
   "source": [
    "### Correcting for aperture-to-total flux\n",
    "\n",
    "Circular aperture flux, available only in the *Classic* catalog, can be converted to total flux using a rescaling factor derived for each source from its APER-to-AUTO ratio."
   ]
  },
  {
   "cell_type": "code",
   "execution_count": 12,
   "id": "66539267-ff54-4619-8675-21dd2d7181f9",
   "metadata": {},
   "outputs": [],
   "source": [
    "def aper_to_tot(tab_in,f_dict,flx_col='_FLUX',flxerr_col='_FLUXERR',scale_col='',out_col=None,only_filt=[],skip_filt=[],verbose=False,out=False):\n",
    "    \"\"\"\n",
    "    Parameters\n",
    "    ----------\n",
    "    tab_in : astropy table of COSMOS2020\n",
    "    f_dict : dictionary with filter info \n",
    "    flx_col : name of the `tab_in` column containing the flux\n",
    "    flxerr_col : name of the `tab_in` column containing the flux error bar\n",
    "    scale_col : name of the `tab_in` column containing the aper-to-total correction\n",
    "    out_col : if defined, the rescaled photometry will be saved in a new column (otherwise it overwrites `flx_col`)\n",
    "    only_filt : list of the filters to be processed (filter names as in `f_dict`)\n",
    "    skip_filt : list of the filters NOT to be processed (filter names as in `f_dict`)\n",
    "    verbose : if True, print a verbose output\n",
    "    out : if True, return a new table with the changes; if False, overwrite `tab_in`  \n",
    "    \"\"\"\n",
    "    \n",
    "    if 'FLUX' in flx_col: flux=True\n",
    "    else: flux=False\n",
    "    if out: tab = tab_in.copy()\n",
    "    else: tab = tab_in \n",
    "    ff = f_dict.keys()\n",
    "    if len(only_filt)>0 : ff = only_filt\n",
    "    for c in ff:\n",
    "        if c not in skip_filt:\n",
    "\n",
    "            if verbose and flux: print('rescale {} to total flux'.format(c+flx_col))\n",
    "            if verbose and not flux: print('rescale {} to total mag'.format(c+flx_col))\n",
    "\n",
    "            if flux:\n",
    "                resc = np.power(10.,-0.4*tab[scale_col])\n",
    "                if out_col:\n",
    "                    tab[c+out_col] = tab[c+flx_col] * resc\n",
    "                    tab[c+out_col+'ERR'] = tab[c+flxerr_col] * resc  # rescale also error bars not to alter the S/N ratio\n",
    "                else:\n",
    "                    tab[c+flx_col] *= resc\n",
    "                    tab[c+flxerr_col] *= resc\n",
    "            else:\n",
    "                if out_col:\n",
    "                    tab[c+out_col] = tab[c+flx_col] + tab[scale_col] \n",
    "                else:\n",
    "                    tab[c+flx_col] += tab[scale_col]             \n",
    "        else:\n",
    "            if verbose: print('Skip filter',c)       \n",
    "    if out: return tab\n",
    "    "
   ]
  },
  {
   "cell_type": "code",
   "execution_count": 13,
   "id": "ac33f898-0607-4e1e-879e-a8c11c180cc6",
   "metadata": {},
   "outputs": [],
   "source": [
    "# Can be applied only to aperture photometry (not to AUTO or Farmer)\n",
    "if (flx[-1]=='2' or flx[-1]=='3'):\n",
    "    aper_to_tot(cat1,filt_dict,flx_col=flx,flxerr_col=flxerr,out_col='_FLUX',\n",
    "    only_filt=filt_use,skip_filt=['IRAC_CH1', 'IRAC_CH2', 'GALEX_FUV', 'GALEX_NUV'],\n",
    "    scale_col='total_off'+flx[-1],verbose=True)\n"
   ]
  },
  {
   "cell_type": "markdown",
   "id": "eb3f2dc1-9693-4fb3-be73-f9b61cf73d21",
   "metadata": {},
   "source": [
    "### Correcting for photometric offset \n",
    "\n",
    "These are the systematic offsets in flux found by either `LePhare` or `EAZY` by using the COSMOS spectroscopic sample. They depend on the photometry (rescaled aperture-to-total photometry *Classic*, or the total photometry in *Farmer*) and on the SED fitting code (*LePhare* or *EAZY*). This correction has not been calculated for the AUTO fluxes in *Classic*. In the following we consider *LePhare* as a reference, whose prefix in the catalogue is `lp_` (e.g., `lp_zBEST`). *EAZY* prefix is `ez_`. "
   ]
  },
  {
   "cell_type": "code",
   "execution_count": 14,
   "id": "e3a45d96-1f96-4e0d-a744-39a383324a7b",
   "metadata": {},
   "outputs": [],
   "source": [
    "def photo_corr(tab_in,f_dict,versions=('Farmer','lp'),flx_col='_FLUX',only_filt=[],skip_filt=[],verbose=False,out=False):\n",
    "    \"\"\"\n",
    "    Parameters\n",
    "    ----------\n",
    "    tab_in : astropy table of COSMOS2020\n",
    "    f_dict : dictionary with filter info\n",
    "    ebv_col : name of the `tab_in` column containing the E(B-V) from Milky Way\n",
    "    flx_col : name of the `tab_in` column containing the flux\n",
    "    flxerr_col : name of the `tab_in` column containing the flux error bar\n",
    "    only_filt : list of the filters to be processed (filter names as in `f_dict`)\n",
    "    skip_filt : list of the filters NOT to be processed (filter names as in `f_dict`)\n",
    "    verbose : if True, print a verbose output\n",
    "    out : if True, return a new table with the changes; if False, overwrite `tab_in`\n",
    "    \"\"\"\n",
    "    if 'FLUX' in flx_col: flux=True\n",
    "    else: flux=False\n",
    "    if out: tab = tab_in.copy()\n",
    "    else: tab = tab_in\n",
    "    ff = f_dict.keys()\n",
    "    if len(only_filt)>0 : ff = only_filt\n",
    "    \n",
    "    if versions[0]=='Farmer' and versions[1]=='lp': v=0\n",
    "    elif versions[0]=='Farmer' and versions[1]=='ez': v=1\n",
    "    elif versions[0]=='Classic' and versions[1]=='lp': v=2\n",
    "    elif versions[0]=='Classic' and versions[1]=='ez': v=3\n",
    "    else: \n",
    "        print(\"ERROR: is this catalog version real?\", version)\n",
    "        return\n",
    "    \n",
    "    for c in ff:\n",
    "        if verbose: print(' apply photometric offset to ',c+flx_col)\n",
    "        offset = f_dict[c][3][v]\n",
    "        if c not in skip_filt and offset!=0.:\n",
    "            if flux:  tab[c+flx_col] *= np.power(10.,-0.4*offset)\n",
    "            else:  tab[c+flx_col] += offset              \n",
    "        else:\n",
    "            if verbose: print('Skip filter',c)       \n",
    "    if out: return tab"
   ]
  },
  {
   "cell_type": "code",
   "execution_count": 15,
   "id": "77c0f561-4bc1-4875-943e-89910c1f5333",
   "metadata": {},
   "outputs": [],
   "source": [
    "photo_corr(cat1,filt_dict,only_filt=filt_use,versions=(catversion,fitversion))"
   ]
  },
  {
   "cell_type": "markdown",
   "id": "b0088ebe-31f5-424f-9f4d-6d22a7ae1fb6",
   "metadata": {},
   "source": [
    "### Final formatting\n",
    "\n",
    "Define a new astropy table `cat` which will be used in the rest of this Notebook.\n",
    "\n",
    "Before saving the new table, remove from the catalogue the columns that are not used. Also convert flux units, and add AB magnitudes."
   ]
  },
  {
   "cell_type": "code",
   "execution_count": 16,
   "id": "044fd4f0-b7df-40c2-a160-c85798eefbab",
   "metadata": {},
   "outputs": [],
   "source": [
    "cat = cat1.copy()  "
   ]
  },
  {
   "cell_type": "code",
   "execution_count": 17,
   "id": "876a5a4a-4860-4401-9b2a-9d61118a712b",
   "metadata": {},
   "outputs": [],
   "source": [
    "# optional: keep only the most commonly used columns (total FLUX, error bars, RA, DEC...)\n",
    "cat.keep_columns(['ID','ALPHA_J2000','DELTA_J2000']+\n",
    "                 [i+'_FLUX' for i in filt_use]+[i+'_FLUXERR' for i in filt_use]+\n",
    "                 ['lp_zBEST','lp_model','lp_age','lp_dust','lp_Attenuation','lp_zp_2','lp_zq','lp_type']+\n",
    "                 ['lp_MNUV','lp_MR','lp_MJ','lp_mass_med','lp_mass_med_min68','lp_mass_med_max68','lp_SFR_med','lp_mass_best']+ \n",
    "                 ['ez_restU','ez_restU_err','ez_restB','ez_restB_err','ez_restV','ez_restV_err','ez_restJ','ez_restJ_err'])"
   ]
  },
  {
   "cell_type": "code",
   "execution_count": 18,
   "id": "91f6b310-395c-4a13-922a-bc88d69f3ce2",
   "metadata": {},
   "outputs": [
    {
     "name": "stderr",
     "output_type": "stream",
     "text": [
      "/var/folders/8b/l2p6wkt967l9p1j0h6q4yw9m0000gn/T/ipykernel_79646/706566923.py:4: RuntimeWarning: invalid value encountered in log10\n",
      "  mag = -2.5*np.log10(cat[b+'_FLUX'].data) + m0  # log of negative flux is masked\n"
     ]
    }
   ],
   "source": [
    "# optional: magnitudes in AB system\n",
    "m0 = +23.9  # fluxes in the catalog are in microJansky\n",
    "for b in filt_use:\n",
    "    mag = -2.5*np.log10(cat[b+'_FLUX'].data) + m0  # log of negative flux is masked\n",
    "    cat.add_column(mag.filled(np.nan),name=b+'_MAG')  # negative flux becomes NaN "
   ]
  },
  {
   "cell_type": "code",
   "execution_count": 19,
   "id": "6878e975-983d-4850-8bd1-8854421dd86b",
   "metadata": {},
   "outputs": [],
   "source": [
    "# flux conversion from uJy to erg/cm2/s/Hz\n",
    "if outflx=='cgs':\n",
    "    for b in filt_use:\n",
    "        cat[b+'_FLUX'] *= 1e-29\n",
    "        cat[b+'_FLUX'].unit = u.erg/u.cm/u.cm/u.s/u.Hz\n",
    "        cat[b+'_FLUXERR'] *= 1e-29\n",
    "        cat[b+'_FLUXERR'].unit = u.erg/u.cm/u.cm/u.s/u.Hz"
   ]
  },
  {
   "cell_type": "markdown",
   "id": "28d5dc64-0bf3-4ec3-8695-c0a127671315",
   "metadata": {},
   "source": [
    "One may want to **rename some columns** in a more user-friendly fashion. For example, the reference photo-z estimates (the ones to use in most of the cases) are originally named `lp_zBEST` for *LePhare* and `ez_z_phot` for *EAZY*. Once chosen the version, it is convenient to change the correspondent column to a standard name (e.g., `photoz`) so that the rest of the Notebook will work either way.  "
   ]
  },
  {
   "cell_type": "code",
   "execution_count": 20,
   "id": "a67b8d05-d4ea-4604-b0bd-2fb2d794c612",
   "metadata": {},
   "outputs": [],
   "source": [
    "cat.rename_column('lp_zBEST', 'photoz') \n",
    "cat.rename_column('ALPHA_J2000','RA')\n",
    "cat.rename_column('DELTA_J2000','DEC')"
   ]
  },
  {
   "cell_type": "code",
   "execution_count": 21,
   "id": "85e5137d-88d5-47d1-be95-72988701232e",
   "metadata": {},
   "outputs": [],
   "source": [
    "# Save the re-formatted table as a FITS file. \n",
    "cat.write(dir_out+'COSMOS2020_{}_processed.fits'.format(catversion),overwrite=True)"
   ]
  },
  {
   "cell_type": "code",
   "execution_count": 22,
   "id": "1831ebe7-fdd6-4531-8bb1-29929540e95b",
   "metadata": {},
   "outputs": [
    {
     "data": {
      "text/html": [
       "<div><i>Table length=718311</i>\n",
       "<table id=\"table5059113232\" class=\"table-striped table-bordered table-condensed\">\n",
       "<thead><tr><th>ID</th><th>RA</th><th>DEC</th><th>CFHT_u_FLUX</th><th>CFHT_u_FLUXERR</th><th>CFHT_ustar_FLUX</th><th>CFHT_ustar_FLUXERR</th><th>HSC_g_FLUX</th><th>HSC_g_FLUXERR</th><th>HSC_r_FLUX</th><th>HSC_r_FLUXERR</th><th>HSC_i_FLUX</th><th>HSC_i_FLUXERR</th><th>HSC_z_FLUX</th><th>HSC_z_FLUXERR</th><th>HSC_y_FLUX</th><th>HSC_y_FLUXERR</th><th>UVISTA_Y_FLUX</th><th>UVISTA_Y_FLUXERR</th><th>UVISTA_J_FLUX</th><th>UVISTA_J_FLUXERR</th><th>UVISTA_H_FLUX</th><th>UVISTA_H_FLUXERR</th><th>UVISTA_Ks_FLUX</th><th>UVISTA_Ks_FLUXERR</th><th>IRAC_CH1_FLUX</th><th>IRAC_CH1_FLUXERR</th><th>IRAC_CH2_FLUX</th><th>IRAC_CH2_FLUXERR</th><th>photoz</th><th>lp_type</th><th>lp_zp_2</th><th>lp_zq</th><th>lp_model</th><th>lp_age</th><th>lp_dust</th><th>lp_Attenuation</th><th>lp_MNUV</th><th>lp_MR</th><th>lp_MJ</th><th>lp_mass_med</th><th>lp_mass_med_min68</th><th>lp_mass_med_max68</th><th>lp_mass_best</th><th>lp_SFR_med</th><th>ez_restU</th><th>ez_restU_err</th><th>ez_restB</th><th>ez_restB_err</th><th>ez_restV</th><th>ez_restV_err</th><th>ez_restJ</th><th>ez_restJ_err</th><th>CFHT_ustar_MAG</th><th>CFHT_u_MAG</th><th>HSC_g_MAG</th><th>HSC_r_MAG</th><th>HSC_i_MAG</th><th>HSC_z_MAG</th><th>HSC_y_MAG</th><th>UVISTA_Y_MAG</th><th>UVISTA_J_MAG</th><th>UVISTA_H_MAG</th><th>UVISTA_Ks_MAG</th><th>IRAC_CH1_MAG</th><th>IRAC_CH2_MAG</th></tr></thead>\n",
       "<thead><tr><th></th><th>deg</th><th>deg</th><th>erg / (Hz s cm2)</th><th>erg / (Hz s cm2)</th><th>erg / (Hz s cm2)</th><th>erg / (Hz s cm2)</th><th>erg / (Hz s cm2)</th><th>erg / (Hz s cm2)</th><th>erg / (Hz s cm2)</th><th>erg / (Hz s cm2)</th><th>erg / (Hz s cm2)</th><th>erg / (Hz s cm2)</th><th>erg / (Hz s cm2)</th><th>erg / (Hz s cm2)</th><th>erg / (Hz s cm2)</th><th>erg / (Hz s cm2)</th><th>erg / (Hz s cm2)</th><th>erg / (Hz s cm2)</th><th>erg / (Hz s cm2)</th><th>erg / (Hz s cm2)</th><th>erg / (Hz s cm2)</th><th>erg / (Hz s cm2)</th><th>erg / (Hz s cm2)</th><th>erg / (Hz s cm2)</th><th>erg / (Hz s cm2)</th><th>erg / (Hz s cm2)</th><th>erg / (Hz s cm2)</th><th>erg / (Hz s cm2)</th><th></th><th></th><th></th><th></th><th></th><th>yr</th><th></th><th></th><th>mag</th><th>mag</th><th>mag</th><th>log(solMass)</th><th>log(solMass)</th><th>log(solMass)</th><th>log(solMass)</th><th>log(solMass/yr)</th><th>uJy</th><th>uJy</th><th>uJy</th><th>uJy</th><th>uJy</th><th>uJy</th><th>uJy</th><th>uJy</th><th></th><th></th><th></th><th></th><th></th><th></th><th></th><th></th><th></th><th></th><th></th><th></th><th></th></tr></thead>\n",
       "<thead><tr><th>int64</th><th>float64</th><th>float64</th><th>float64</th><th>float64</th><th>float64</th><th>float64</th><th>float64</th><th>float64</th><th>float64</th><th>float64</th><th>float64</th><th>float64</th><th>float64</th><th>float64</th><th>float64</th><th>float64</th><th>float64</th><th>float64</th><th>float64</th><th>float64</th><th>float64</th><th>float64</th><th>float64</th><th>float64</th><th>float64</th><th>float64</th><th>float64</th><th>float64</th><th>float64</th><th>int64</th><th>float64</th><th>float64</th><th>int64</th><th>float64</th><th>float64</th><th>int64</th><th>float64</th><th>float64</th><th>float64</th><th>float64</th><th>float64</th><th>float64</th><th>float64</th><th>float64</th><th>float32</th><th>float32</th><th>float32</th><th>float32</th><th>float32</th><th>float32</th><th>float32</th><th>float32</th><th>float64</th><th>float64</th><th>float64</th><th>float64</th><th>float64</th><th>float64</th><th>float64</th><th>float64</th><th>float64</th><th>float64</th><th>float64</th><th>float64</th><th>float64</th></tr></thead>\n",
       "<tr><td>1</td><td>150.47759181348482</td><td>2.3289280599580477</td><td>1.4286775124802996e-30</td><td>4.1863488283601616e-32</td><td>1.4485867931159782e-30</td><td>3.566769095834382e-32</td><td>1.3474227381787194e-30</td><td>3.4682673072330925e-32</td><td>1.4795410512313217e-30</td><td>4.804885971761918e-32</td><td>1.3897415135565863e-30</td><td>4.5610206599078234e-32</td><td>1.5448364617163439e-30</td><td>6.886879564422908e-32</td><td>1.9944042975888768e-30</td><td>1.512743701028521e-31</td><td>2.194617049614455e-30</td><td>1.0935296985526243e-31</td><td>3.4295471189439165e-30</td><td>1.2955112496925438e-31</td><td>3.908203241443346e-30</td><td>1.6259644938874592e-31</td><td>3.2536508304140975e-30</td><td>2.16464934093371e-31</td><td>2.1685357580232817e-30</td><td>1.2499986182277433e-31</td><td>3.5984373713499364e-30</td><td>1.0825896424508906e-31</td><td>1.593</td><td>0</td><td>--</td><td>2.21</td><td>10</td><td>508800000.0</td><td>0.1</td><td>0</td><td>-18.37094</td><td>-19.28665</td><td>-18.82977</td><td>8.5707</td><td>8.4769</td><td>8.72267</td><td>8.52185</td><td>0.1587</td><td>0.18273404</td><td>0.0040585846</td><td>0.26975456</td><td>0.008786425</td><td>0.31889814</td><td>0.010800019</td><td>0.26588404</td><td>0.015110642</td><td>25.997638696538726</td><td>26.01266447763064</td><td>26.076240320166857</td><td>25.974682451087865</td><td>26.04266492324113</td><td>25.92779372188164</td><td>25.6504669966885</td><td>25.54660312790417</td><td>25.06190806485616</td><td>24.92005714849997</td><td>25.119072639377556</td><td>25.559583530416873</td><td>25.009715128865995</td></tr>\n",
       "<tr><td>2</td><td>150.47797761902396</td><td>2.3291698582383837</td><td>3.144447089765112e-31</td><td>4.1784812556721314e-32</td><td>2.899299306518481e-31</td><td>3.5425529859610483e-32</td><td>3.81102573179904e-31</td><td>3.4621234980186913e-32</td><td>5.623959357339829e-31</td><td>4.7454133527499846e-32</td><td>5.676675780586191e-31</td><td>4.515094977363543e-32</td><td>5.894009943109004e-31</td><td>6.835011770121409e-32</td><td>4.201552220847346e-31</td><td>1.5165655916552863e-31</td><td>1.1234370258102026e-30</td><td>1.0879013058579777e-31</td><td>3.368830843771447e-31</td><td>1.289635616181182e-31</td><td>1.1080761117120125e-30</td><td>1.6213445319491123e-31</td><td>5.622031921354012e-31</td><td>2.1639924544462116e-31</td><td>-1.5321028731439428e-30</td><td>1.2654578923982576e-31</td><td>-1.1824914587214408e-30</td><td>1.0770404239184858e-31</td><td>0.1151</td><td>0</td><td>0.5</td><td>0.0</td><td>9</td><td>127800000.0</td><td>0.2</td><td>1</td><td>-10.8321</td><td>-11.44834</td><td>-11.49973</td><td>5.51014</td><td>5.32253</td><td>5.70024</td><td>5.27514</td><td>-2.7755</td><td>0.037780482</td><td>0.0021447372</td><td>0.041109845</td><td>0.0019835494</td><td>0.040714685</td><td>0.002482159</td><td>0.033749487</td><td>0.003279686</td><td>27.744267370840177</td><td>27.65613927139278</td><td>27.44739529722426</td><td>27.024894566230724</td><td>27.01476477373861</td><td>26.97397283959251</td><td>27.34147558566609</td><td>26.273628167279128</td><td>27.581301988324128</td><td>26.288576019232714</td><td>27.025266732098682</td><td>nan</td><td>nan</td></tr>\n",
       "<tr><td>4</td><td>150.47731178731453</td><td>2.330573371782033</td><td>2.457378693408161e-31</td><td>4.1301706935441486e-32</td><td>3.336273924852259e-31</td><td>3.4747656557935656e-32</td><td>2.6874624524057866e-31</td><td>3.2963854759948246e-32</td><td>3.519697867295794e-31</td><td>4.5797680572906567e-32</td><td>6.9901827331111644e-31</td><td>4.447761656055304e-32</td><td>9.417052126932326e-31</td><td>6.625383728606029e-32</td><td>9.326594192176642e-31</td><td>1.4521913077711354e-31</td><td>1.4524734362860023e-30</td><td>1.0170974226680826e-31</td><td>1.5060905330938789e-30</td><td>1.2003809651333477e-31</td><td>1.5591323142864162e-30</td><td>1.5244608703366329e-31</td><td>8.021553986034743e-31</td><td>2.051845134102712e-31</td><td>-1.0065541972814754e-30</td><td>1.0277054611309565e-31</td><td>-1.1434838177590014e-30</td><td>8.591016705199223e-32</td><td>0.0177</td><td>0</td><td>--</td><td>0.0</td><td>--</td><td>--</td><td>--</td><td>--</td><td>--</td><td>992.0781</td><td>990.52574</td><td>--</td><td>--</td><td>--</td><td>--</td><td>--</td><td>--</td><td>--</td><td>--</td><td>--</td><td>--</td><td>--</td><td>--</td><td>--</td><td>27.591845747028277</td><td>27.923819778941755</td><td>27.826643986832135</td><td>27.53373653746791</td><td>26.78877867760842</td><td>26.46521256397505</td><td>26.47569229834496</td><td>25.99472950376387</td><td>25.955372303337384</td><td>25.917792568143817</td><td>26.639353723247233</td><td>nan</td><td>nan</td></tr>\n",
       "<tr><td>5</td><td>150.4747933583551</td><td>2.3321358789735758</td><td>8.812705596590296e-31</td><td>4.1432170184299253e-32</td><td>7.793547559119491e-31</td><td>3.589134786356012e-32</td><td>1.4489221951215541e-30</td><td>3.334146048643657e-32</td><td>1.608237415862083e-30</td><td>4.8161412839915203e-32</td><td>1.372684350254735e-30</td><td>4.5574779470110744e-32</td><td>1.3188895087265115e-30</td><td>6.768381478711947e-32</td><td>1.1749918967464661e-30</td><td>1.4920748594424223e-31</td><td>6.410465097614499e-31</td><td>1.057063786796275e-31</td><td>7.790460470865795e-31</td><td>1.2463437155586819e-31</td><td>3.236604721009286e-30</td><td>1.5679893588114526e-31</td><td>2.0254639593755705e-30</td><td>2.088189976406995e-31</td><td>5.177900715049477e-31</td><td>1.2735468327492158e-31</td><td>8.472623588440585e-31</td><td>1.0500409290955404e-31</td><td>2.8698</td><td>0</td><td>--</td><td>0.0</td><td>10</td><td>101500000.0</td><td>0.0</td><td>0</td><td>-19.3976</td><td>-20.0257</td><td>-18.8942</td><td>8.08458</td><td>7.89948</td><td>8.22524</td><td>8.05107</td><td>0.41515</td><td>0.12350727</td><td>0.0056086257</td><td>0.178315</td><td>0.010872997</td><td>0.1668968</td><td>0.011839807</td><td>0.0784022</td><td>0.006501481</td><td>26.67066202506027</td><td>26.53722684495225</td><td>25.997387337109846</td><td>25.884124595455607</td><td>26.056073294021665</td><td>26.099478965948993</td><td>26.224912821162377</td><td>26.88277615007195</td><td>26.671092179295524</td><td>25.124775841829315</td><td>25.63368870036115</td><td>27.11461570327331</td><td>26.579955218697304</td></tr>\n",
       "<tr><td>6</td><td>150.47462681711474</td><td>2.332483697527051</td><td>2.860949309265382e-31</td><td>4.168310055233025e-32</td><td>2.028145804623424e-31</td><td>3.5681071476804586e-32</td><td>1.9741025845031943e-31</td><td>3.3385138014286905e-32</td><td>2.965126203860999e-31</td><td>4.760244253276997e-32</td><td>2.978212538316691e-31</td><td>4.5008043553736726e-32</td><td>3.3601597021069032e-31</td><td>6.740163529730846e-32</td><td>5.242846648953939e-31</td><td>1.4757897460710833e-31</td><td>6.733870201540002e-31</td><td>1.0399449909235087e-31</td><td>9.721206725396975e-31</td><td>1.2389306294998109e-31</td><td>9.609534168485844e-31</td><td>1.5553572254484623e-31</td><td>6.577027860698121e-31</td><td>2.074004774600599e-31</td><td>1.6661797768236855e-31</td><td>1.2597467257907302e-31</td><td>1.1541095964951987e-30</td><td>1.0276930713214318e-31</td><td>1.5139</td><td>0</td><td>1.0</td><td>2.19</td><td>1</td><td>321000000.0</td><td>0.0</td><td>0</td><td>-16.54127</td><td>-17.71443</td><td>-17.59585</td><td>8.00612</td><td>7.81234</td><td>8.17514</td><td>8.06661</td><td>-0.53423</td><td>0.025883976</td><td>0.0022396073</td><td>0.027029406</td><td>0.0020185849</td><td>0.026842272</td><td>0.0017325776</td><td>0.06836452</td><td>0.0055896565</td><td>28.13225206631125</td><td>27.758724592555488</td><td>28.161575707273762</td><td>27.719892042870722</td><td>27.71511078079436</td><td>27.584100202287644</td><td>27.101082112575835</td><td>26.829338147735214</td><td>26.430699553308745</td><td>26.44324416167139</td><td>26.854925796096182</td><td>28.345695352655852</td><td>26.244382369430202</td></tr>\n",
       "<tr><td>7</td><td>150.47629380160322</td><td>2.3325803355209334</td><td>2.8782289469613314e-32</td><td>4.111569058143367e-32</td><td>8.619690667830153e-32</td><td>3.478257285964495e-32</td><td>4.047490858501295e-31</td><td>3.225719824105079e-32</td><td>5.262202376283793e-31</td><td>4.6132350418547205e-32</td><td>4.980122434926465e-31</td><td>4.384104887404071e-32</td><td>4.398751121825999e-31</td><td>6.55754598904796e-32</td><td>1.798861210201669e-31</td><td>1.4339879551876836e-31</td><td>3.1210463546691513e-31</td><td>9.845857863548551e-32</td><td>4.6938626697406204e-31</td><td>1.1819753902065517e-31</td><td>8.919420635221386e-31</td><td>1.5022171782251759e-31</td><td>1.7595828621840343e-30</td><td>2.023202893076053e-31</td><td>-1.4361995122136682e-30</td><td>1.0539940966786522e-31</td><td>-7.894921688787693e-31</td><td>8.693553187379278e-32</td><td>0.1042</td><td>0</td><td>3.21</td><td>0.0</td><td>1</td><td>404200000.0</td><td>0.0</td><td>0</td><td>-9.61236</td><td>-11.15646</td><td>-11.08225</td><td>5.66375</td><td>5.51165</td><td>5.79395</td><td>5.60633</td><td>-3.18234</td><td>0.021512806</td><td>0.0012990441</td><td>0.041788038</td><td>0.0020346493</td><td>0.044828817</td><td>0.0019979365</td><td>0.032770846</td><td>0.0038480442</td><td>29.06127079821807</td><td>30.25218665834106</td><td>27.382035308633462</td><td>27.097081134063064</td><td>27.156899950249635</td><td>27.291676523493454</td><td>28.26250585757381</td><td>27.664249452553648</td><td>27.221174052206965</td><td>26.52415838622843</td><td>25.786475691435523</td><td>nan</td><td>nan</td></tr>\n",
       "<tr><td>12</td><td>150.47680901653771</td><td>2.331511304901457</td><td>4.0505139744157825e-30</td><td>6.043072796107958e-32</td><td>3.5391451085613775e-30</td><td>4.8509862085118965e-32</td><td>3.495220896587683e-30</td><td>4.7987966244959706e-32</td><td>5.263292914131059e-30</td><td>6.673112994654221e-32</td><td>8.672350316097038e-30</td><td>6.939692573511669e-32</td><td>9.526292032791463e-30</td><td>1.0382421255260869e-31</td><td>9.974437546459082e-30</td><td>2.1429642055808086e-31</td><td>1.0409118424028305e-29</td><td>1.5074961250377633e-31</td><td>1.1677487662161788e-29</td><td>1.8240251569747823e-31</td><td>1.2375241584185749e-29</td><td>2.309758059757753e-31</td><td>1.2736142554022803e-29</td><td>3.115760667199138e-31</td><td>7.071196180192906e-30</td><td>1.2663452478837227e-31</td><td>5.6435847792686405e-30</td><td>1.12637204481129e-31</td><td>0.707</td><td>0</td><td>--</td><td>0.0</td><td>5</td><td>904800000.0</td><td>0.1</td><td>1</td><td>-17.59872</td><td>-18.85507</td><td>-18.93651</td><td>8.6938</td><td>8.65194</td><td>8.74706</td><td>8.64422</td><td>-0.18369</td><td>0.5081365</td><td>0.0075328946</td><td>0.81264424</td><td>0.010538071</td><td>0.98028624</td><td>0.011138409</td><td>1.2632685</td><td>0.03338468</td><td>25.02775407620112</td><td>24.88122466289547</td><td>25.041313429525694</td><td>24.59685614960485</td><td>24.054657968251824</td><td>23.952690272816408</td><td>23.90277896149806</td><td>23.856465126221806</td><td>23.73162645723337</td><td>23.668615785500187</td><td>23.637405221440833</td><td>24.276267784278893</td><td>24.5211123662391</td></tr>\n",
       "<tr><td>17</td><td>150.4757193572789</td><td>2.333081930539043</td><td>8.368145035833505e-31</td><td>4.111420408254105e-32</td><td>9.0691060399348e-31</td><td>3.4859791793167357e-32</td><td>7.3768883951838475e-31</td><td>3.2805098062630306e-32</td><td>7.227763719130863e-31</td><td>4.696112198110405e-32</td><td>7.58413131658177e-31</td><td>4.4625625451961515e-32</td><td>9.123892293465841e-31</td><td>6.688396231251248e-32</td><td>6.851727926800602e-31</td><td>1.4661279655305595e-31</td><td>3.406045092204144e-30</td><td>1.0307552854766895e-31</td><td>1.2508268856547062e-30</td><td>1.2200519738940098e-31</td><td>5.884477053083092e-31</td><td>1.5362043169053946e-31</td><td>1.2064297960685068e-30</td><td>2.0640874681238424e-31</td><td>-1.053498193161979e-30</td><td>1.0544690004731174e-31</td><td>-1.1606692464855964e-30</td><td>9.03009501579847e-32</td><td>0.5725</td><td>0</td><td>--</td><td>0.0</td><td>10</td><td>50000000.0</td><td>0.1</td><td>0</td><td>-15.66295</td><td>-16.56777</td><td>-15.92039</td><td>6.6407</td><td>6.60661</td><td>6.68056</td><td>6.69292</td><td>-0.70023</td><td>--</td><td>--</td><td>--</td><td>--</td><td>--</td><td>--</td><td>--</td><td>--</td><td>26.50608880028185</td><td>26.59342700316012</td><td>26.730316967313943</td><td>26.752490133206276</td><td>26.70023538986949</td><td>26.499549625408008</td><td>26.810499726582112</td><td>25.06937401691284</td><td>26.157006981176707</td><td>26.975730315930583</td><td>26.196244863142947</td><td>nan</td><td>nan</td></tr>\n",
       "<tr><td>18</td><td>150.7217541728814</td><td>1.7921643115844321</td><td>2.0873158274859593e-31</td><td>3.676256047634303e-32</td><td>1.0246582728962574e-31</td><td>6.565411340339995e-32</td><td>2.933606239997835e-31</td><td>3.849030588499802e-32</td><td>4.864549751802361e-31</td><td>5.042870933308776e-32</td><td>5.461652937969433e-31</td><td>4.655536212199874e-32</td><td>5.129160446045321e-31</td><td>7.445201662957507e-32</td><td>8.491899152214127e-31</td><td>1.7018758663441205e-31</td><td>-1.492925269666514e-30</td><td>5.083412870759317e-31</td><td>-1.3756629321240476e-31</td><td>3.8404037680669987e-31</td><td>2.0515611041089308e-30</td><td>4.3723292340160435e-31</td><td>1.4662452534177636e-30</td><td>2.691208718363775e-31</td><td>1.4135841651836033e-30</td><td>1.6721862865300195e-31</td><td>2.6979445129192645e-30</td><td>1.886775736675243e-31</td><td>2.8235</td><td>0</td><td>2.28</td><td>3.13</td><td>1</td><td>360200000.0</td><td>0.0</td><td>0</td><td>-18.38438</td><td>-19.44452</td><td>-20.14465</td><td>8.93768</td><td>8.73907</td><td>9.0896</td><td>8.9694</td><td>0.25144</td><td>0.03727632</td><td>0.0028825644</td><td>0.050033294</td><td>0.0030153524</td><td>0.05339823</td><td>0.0031108912</td><td>0.12388897</td><td>0.016507905</td><td>28.873552372960518</td><td>28.10102958438356</td><td>27.731495448174822</td><td>27.18239337633941</td><td>27.0566897516632</td><td>27.124884288725617</td><td>26.577487930134907</td><td>nan</td><td>nan</td><td>25.61978885847539</td><td>25.984483451969908</td><td>26.024195820984236</td><td>25.32241746614581</td></tr>\n",
       "<tr><td>...</td><td>...</td><td>...</td><td>...</td><td>...</td><td>...</td><td>...</td><td>...</td><td>...</td><td>...</td><td>...</td><td>...</td><td>...</td><td>...</td><td>...</td><td>...</td><td>...</td><td>...</td><td>...</td><td>...</td><td>...</td><td>...</td><td>...</td><td>...</td><td>...</td><td>...</td><td>...</td><td>...</td><td>...</td><td>...</td><td>...</td><td>...</td><td>...</td><td>...</td><td>...</td><td>...</td><td>...</td><td>...</td><td>...</td><td>...</td><td>...</td><td>...</td><td>...</td><td>...</td><td>...</td><td>...</td><td>...</td><td>...</td><td>...</td><td>...</td><td>...</td><td>...</td><td>...</td><td>...</td><td>...</td><td>...</td><td>...</td><td>...</td><td>...</td><td>...</td><td>...</td><td>...</td><td>...</td><td>...</td><td>...</td><td>...</td></tr>\n",
       "<tr><td>964431</td><td>150.21387785195628</td><td>1.7884995716537138</td><td>--</td><td>--</td><td>--</td><td>--</td><td>--</td><td>--</td><td>--</td><td>--</td><td>--</td><td>--</td><td>--</td><td>--</td><td>--</td><td>--</td><td>--</td><td>--</td><td>--</td><td>--</td><td>--</td><td>--</td><td>--</td><td>--</td><td>--</td><td>--</td><td>--</td><td>--</td><td>0.0</td><td>1</td><td>--</td><td>5.06</td><td>9</td><td>5000000000.0</td><td>0.7</td><td>0</td><td>-19.14584</td><td>-24.71129</td><td>-26.77803</td><td>9.72153</td><td>8.40143</td><td>10.99752</td><td>12.60358</td><td>1.00752</td><td>--</td><td>--</td><td>--</td><td>--</td><td>--</td><td>--</td><td>--</td><td>--</td><td>nan</td><td>nan</td><td>nan</td><td>nan</td><td>nan</td><td>nan</td><td>nan</td><td>nan</td><td>nan</td><td>nan</td><td>nan</td><td>nan</td><td>nan</td></tr>\n",
       "<tr><td>964433</td><td>150.2017870191927</td><td>1.7903707113630898</td><td>1.0437021936068528e-31</td><td>4.958687108328967e-32</td><td>--</td><td>--</td><td>-2.9432612560980384e-31</td><td>3.112474899497183e-32</td><td>-1.8986047654069044e-30</td><td>4.1079191812887457e-32</td><td>--</td><td>--</td><td>--</td><td>--</td><td>--</td><td>--</td><td>1.2170056058208771e-30</td><td>9.312173542367182e-32</td><td>--</td><td>--</td><td>--</td><td>--</td><td>--</td><td>--</td><td>1.5952819293608864e-29</td><td>1.116570876970725e-31</td><td>1.0205921989103614e-29</td><td>1.1882204483386419e-31</td><td>7.6066</td><td>0</td><td>--</td><td>7.69</td><td>12</td><td>101500000.0</td><td>0.2</td><td>1</td><td>-23.14904</td><td>-23.3404</td><td>-23.65682</td><td>10.28776</td><td>10.09452</td><td>10.48259</td><td>10.11919</td><td>2.35781</td><td>0.8995512</td><td>0.056173384</td><td>1.2667387</td><td>0.024529755</td><td>1.3886814</td><td>0.025378406</td><td>2.6248276</td><td>0.48710203</td><td>nan</td><td>28.853558509377404</td><td>nan</td><td>nan</td><td>nan</td><td>nan</td><td>nan</td><td>26.18676855325091</td><td>nan</td><td>nan</td><td>nan</td><td>23.39290638567715</td><td>23.877869389007927</td></tr>\n",
       "<tr><td>964435</td><td>150.20431399058862</td><td>1.7905680383055087</td><td>--</td><td>--</td><td>--</td><td>--</td><td>--</td><td>--</td><td>--</td><td>--</td><td>--</td><td>--</td><td>--</td><td>--</td><td>--</td><td>--</td><td>--</td><td>--</td><td>--</td><td>--</td><td>--</td><td>--</td><td>--</td><td>--</td><td>--</td><td>--</td><td>--</td><td>--</td><td>0.0</td><td>1</td><td>--</td><td>0.82</td><td>6</td><td>10000000000.0</td><td>0.2</td><td>0</td><td>-19.70063</td><td>-22.61944</td><td>-23.77054</td><td>10.74434</td><td>10.28864</td><td>11.20597</td><td>11.29718</td><td>1.73349</td><td>--</td><td>--</td><td>--</td><td>--</td><td>--</td><td>--</td><td>--</td><td>--</td><td>nan</td><td>nan</td><td>nan</td><td>nan</td><td>nan</td><td>nan</td><td>nan</td><td>nan</td><td>nan</td><td>nan</td><td>nan</td><td>nan</td><td>nan</td></tr>\n",
       "<tr><td>964437</td><td>150.2020795128472</td><td>1.7886231005224225</td><td>9.387979493995206e-31</td><td>5.44617082155151e-32</td><td>--</td><td>--</td><td>--</td><td>--</td><td>--</td><td>--</td><td>6.073990629507092e-30</td><td>5.656854249492381e-32</td><td>1.7845975483477698e-29</td><td>7.348469228349534e-32</td><td>2.6837247527769034e-29</td><td>1.5874507866387543e-31</td><td>3.1254280206778704e-29</td><td>9.860093025348931e-32</td><td>--</td><td>--</td><td>--</td><td>--</td><td>--</td><td>--</td><td>2.2278705387660226e-28</td><td>1.2948332142391831e-31</td><td>1.941388721504937e-28</td><td>1.6220999463077232e-31</td><td>1.766</td><td>0</td><td>1.15</td><td>1.14</td><td>2</td><td>2300000000.0</td><td>0.0</td><td>0</td><td>-19.133</td><td>-23.68936</td><td>-24.05903</td><td>11.24986</td><td>11.21576</td><td>11.28396</td><td>11.23245</td><td>-0.30028</td><td>0.5324579</td><td>0.009003907</td><td>2.0232368</td><td>0.023135304</td><td>4.589575</td><td>0.12616801</td><td>16.127132</td><td>1.6121111</td><td>nan</td><td>26.468569669236246</td><td>nan</td><td>nan</td><td>24.44131470603471</td><td>23.271149269941464</td><td>22.82815507043791</td><td>22.662726246368127</td><td>nan</td><td>nan</td><td>nan</td><td>20.530275123886142</td><td>20.67971874434438</td></tr>\n",
       "<tr><td>964439</td><td>150.21210622501945</td><td>1.787928072635541</td><td>1.3459908194165855e-30</td><td>5.134699092559177e-32</td><td>--</td><td>--</td><td>2.5461765190359187e-30</td><td>5.656854249492381e-32</td><td>4.013720442618969e-30</td><td>4.2426406871192847e-32</td><td>4.992803937105135e-30</td><td>4.198213905936666e-32</td><td>5.805944636588209e-30</td><td>6.70820393249937e-32</td><td>3.0233990919533808e-30</td><td>1.5083103128998356e-31</td><td>3.618299372027783e-30</td><td>9.376725118364254e-32</td><td>--</td><td>--</td><td>--</td><td>--</td><td>--</td><td>--</td><td>-6.87080419281298e-30</td><td>1.1376344672298054e-31</td><td>-3.7301866961762394e-30</td><td>1.1329237452675202e-31</td><td>0.3207</td><td>0</td><td>--</td><td>0.09</td><td>1</td><td>321000000.0</td><td>0.0</td><td>0</td><td>-14.96574</td><td>-16.20844</td><td>-16.12667</td><td>7.49669</td><td>7.46037</td><td>7.53361</td><td>7.47894</td><td>-1.47172</td><td>--</td><td>--</td><td>--</td><td>--</td><td>--</td><td>--</td><td>--</td><td>--</td><td>nan</td><td>26.07739475572274</td><td>25.385278728153434</td><td>24.891132198988544</td><td>24.654138719903877</td><td>24.490317774403678</td><td>25.19876130424105</td><td>25.00373875797954</td><td>nan</td><td>nan</td><td>nan</td><td>nan</td><td>nan</td></tr>\n",
       "<tr><td>964440</td><td>150.21141537699958</td><td>1.7880142201157307</td><td>--</td><td>--</td><td>--</td><td>--</td><td>4.9663034164848375e-31</td><td>3.2015621187164244e-32</td><td>1.435758191041799e-30</td><td>4.213074886588179e-32</td><td>3.072693098632636e-30</td><td>4.198213905936666e-32</td><td>4.182662108826697e-30</td><td>6.759252917297887e-32</td><td>4.3199359803235e-30</td><td>1.9595917942265421e-31</td><td>6.417852703496721e-30</td><td>9.120610402469617e-32</td><td>--</td><td>--</td><td>--</td><td>--</td><td>--</td><td>--</td><td>-5.1571790282096126e-30</td><td>1.1700786127850771e-31</td><td>--</td><td>--</td><td>0.049</td><td>0</td><td>--</td><td>0.0</td><td>9</td><td>12000000000.0</td><td>0.2</td><td>1</td><td>-4.85624</td><td>-11.09581</td><td>-12.19263</td><td>6.65096</td><td>6.61168</td><td>6.68891</td><td>6.84643</td><td>-6.16605</td><td>--</td><td>--</td><td>--</td><td>--</td><td>--</td><td>--</td><td>--</td><td>--</td><td>nan</td><td>nan</td><td>27.159916876834984</td><td>26.007296743443025</td><td>25.181202037551706</td><td>24.846368044859183</td><td>24.811306723008006</td><td>24.381525636608867</td><td>nan</td><td>nan</td><td>nan</td><td>nan</td><td>nan</td></tr>\n",
       "<tr><td>964441</td><td>150.21266550613254</td><td>1.7884180262789857</td><td>6.9293304074436205e-31</td><td>2.967109264074728e-32</td><td>--</td><td>--</td><td>7.08302327485676e-31</td><td>3.1622776601683795e-32</td><td>-8.411246940061548e-31</td><td>6.928203230275508e-32</td><td>3.0023145284009297e-30</td><td>4.2426406871192847e-32</td><td>2.350859878520718e-30</td><td>6.633249580710799e-32</td><td>--</td><td>--</td><td>-6.469146387492537e-31</td><td>8.893559709890305e-32</td><td>--</td><td>--</td><td>--</td><td>--</td><td>--</td><td>--</td><td>-4.9570793965385784e-30</td><td>1.223697504024646e-31</td><td>-3.453382780751174e-30</td><td>1.1700786127850771e-31</td><td>0.8165</td><td>0</td><td>0.08</td><td>0.08</td><td>5</td><td>360200000.0</td><td>0.0</td><td>0</td><td>-16.26356</td><td>-17.11224</td><td>-16.86807</td><td>7.61975</td><td>7.55229</td><td>7.69788</td><td>7.63867</td><td>-0.79995</td><td>--</td><td>--</td><td>--</td><td>--</td><td>--</td><td>--</td><td>--</td><td>--</td><td>nan</td><td>26.798271824870973</td><td>26.774453327762515</td><td>nan</td><td>25.206359530403805</td><td>25.471933139861825</td><td>nan</td><td>nan</td><td>nan</td><td>nan</td><td>nan</td><td>nan</td><td>nan</td></tr>\n",
       "<tr><td>964444</td><td>150.21255747651924</td><td>1.7893318052890048</td><td>--</td><td>--</td><td>--</td><td>--</td><td>--</td><td>--</td><td>--</td><td>--</td><td>3.839547887823215e-30</td><td>6.928203230275508e-32</td><td>--</td><td>--</td><td>--</td><td>--</td><td>-6.108153495587935e-31</td><td>9.212099518815913e-32</td><td>--</td><td>--</td><td>--</td><td>--</td><td>--</td><td>--</td><td>--</td><td>--</td><td>--</td><td>--</td><td>0.0812</td><td>0</td><td>--</td><td>8.75</td><td>10</td><td>50000000.0</td><td>0.1</td><td>0</td><td>-11.80308</td><td>-12.70562</td><td>-11.60365</td><td>5.16792</td><td>5.12018</td><td>5.29172</td><td>5.15604</td><td>-2.16283</td><td>--</td><td>--</td><td>--</td><td>--</td><td>--</td><td>--</td><td>--</td><td>--</td><td>nan</td><td>nan</td><td>nan</td><td>nan</td><td>24.939299778523463</td><td>nan</td><td>nan</td><td>nan</td><td>nan</td><td>nan</td><td>nan</td><td>nan</td><td>nan</td></tr>\n",
       "<tr><td>964449</td><td>150.20101258540564</td><td>1.7907207750996976</td><td>2.9680075037436797e-30</td><td>7.261561095402013e-32</td><td>--</td><td>--</td><td>2.921792007159405e-30</td><td>1.9999999999999998e-32</td><td>--</td><td>--</td><td>4.9725382917527734e-30</td><td>3.9999999999999997e-32</td><td>5.139133321482176e-30</td><td>6.928203230275508e-32</td><td>--</td><td>--</td><td>3.0400899778106332e-30</td><td>1.0199957397007168e-31</td><td>--</td><td>--</td><td>--</td><td>--</td><td>--</td><td>--</td><td>-5.526925952284742e-30</td><td>8.273705216216766e-32</td><td>--</td><td>--</td><td>0.3073</td><td>0</td><td>--</td><td>0.08</td><td>9</td><td>718700000.0</td><td>0.0</td><td>0</td><td>-15.52512</td><td>-16.19011</td><td>-15.75464</td><td>7.28359</td><td>7.22989</td><td>7.3361</td><td>7.24709</td><td>-1.21393</td><td>--</td><td>--</td><td>--</td><td>--</td><td>--</td><td>--</td><td>--</td><td>--</td><td>nan</td><td>25.218837513510866</td><td>25.23587675827161</td><td>nan</td><td>24.658554659607407</td><td>24.62277528881247</td><td>nan</td><td>25.192783905872552</td><td>nan</td><td>nan</td><td>nan</td><td>nan</td><td>nan</td></tr>\n",
       "</table></div>"
      ],
      "text/plain": [
       "<Table length=718311>\n",
       "  ID           RA         ...    IRAC_CH1_MAG       IRAC_CH2_MAG   \n",
       "              deg         ...                                      \n",
       "int64       float64       ...      float64            float64      \n",
       "------ ------------------ ... ------------------ ------------------\n",
       "     1 150.47759181348482 ... 25.559583530416873 25.009715128865995\n",
       "     2 150.47797761902396 ...                nan                nan\n",
       "     4 150.47731178731453 ...                nan                nan\n",
       "     5  150.4747933583551 ...  27.11461570327331 26.579955218697304\n",
       "     6 150.47462681711474 ... 28.345695352655852 26.244382369430202\n",
       "     7 150.47629380160322 ...                nan                nan\n",
       "    12 150.47680901653771 ... 24.276267784278893   24.5211123662391\n",
       "    17  150.4757193572789 ...                nan                nan\n",
       "    18  150.7217541728814 ... 26.024195820984236  25.32241746614581\n",
       "   ...                ... ...                ...                ...\n",
       "964431 150.21387785195628 ...                nan                nan\n",
       "964433  150.2017870191927 ...  23.39290638567715 23.877869389007927\n",
       "964435 150.20431399058862 ...                nan                nan\n",
       "964437  150.2020795128472 ... 20.530275123886142  20.67971874434438\n",
       "964439 150.21210622501945 ...                nan                nan\n",
       "964440 150.21141537699958 ...                nan                nan\n",
       "964441 150.21266550613254 ...                nan                nan\n",
       "964444 150.21255747651924 ...                nan                nan\n",
       "964449 150.20101258540564 ...                nan                nan"
      ]
     },
     "execution_count": 22,
     "metadata": {},
     "output_type": "execute_result"
    }
   ],
   "source": [
    "searchfield = cat[cat['photoz']>=0]\n",
    "searchfield"
   ]
  },
  {
   "cell_type": "code",
   "execution_count": 23,
   "id": "052690e8-19a5-4e18-ae2e-d8a78dad9665",
   "metadata": {},
   "outputs": [
    {
     "data": {
      "text/html": [
       "<div><i>Table length=718311</i>\n",
       "<table id=\"table5057965200\" class=\"table-striped table-bordered table-condensed\">\n",
       "<thead><tr><th>u-b</th><th>b-v</th><th>v-j</th></tr></thead>\n",
       "<thead><tr><th>uJy</th><th>uJy</th><th>uJy</th></tr></thead>\n",
       "<thead><tr><th>float32</th><th>float32</th><th>float32</th></tr></thead>\n",
       "<tr><td>-0.08702052</td><td>-0.049143583</td><td>0.0530141</td></tr>\n",
       "<tr><td>-0.0033293627</td><td>0.00039516017</td><td>0.0069651976</td></tr>\n",
       "<tr><td>--</td><td>--</td><td>--</td></tr>\n",
       "<tr><td>-0.05480773</td><td>0.011418194</td><td>0.08849461</td></tr>\n",
       "<tr><td>-0.0011454299</td><td>0.00018713437</td><td>-0.04152225</td></tr>\n",
       "<tr><td>-0.020275231</td><td>-0.0030407794</td><td>0.012057971</td></tr>\n",
       "<tr><td>-0.30450773</td><td>-0.167642</td><td>-0.28298223</td></tr>\n",
       "<tr><td>--</td><td>--</td><td>--</td></tr>\n",
       "<tr><td>-0.0127569735</td><td>-0.0033649355</td><td>-0.07049074</td></tr>\n",
       "<tr><td>...</td><td>...</td><td>...</td></tr>\n",
       "<tr><td>--</td><td>--</td><td>--</td></tr>\n",
       "<tr><td>-0.36718744</td><td>-0.12194276</td><td>-1.2361462</td></tr>\n",
       "<tr><td>--</td><td>--</td><td>--</td></tr>\n",
       "<tr><td>-1.4907789</td><td>-2.566338</td><td>-11.537558</td></tr>\n",
       "<tr><td>--</td><td>--</td><td>--</td></tr>\n",
       "<tr><td>--</td><td>--</td><td>--</td></tr>\n",
       "<tr><td>--</td><td>--</td><td>--</td></tr>\n",
       "<tr><td>--</td><td>--</td><td>--</td></tr>\n",
       "<tr><td>--</td><td>--</td><td>--</td></tr>\n",
       "</table></div>"
      ],
      "text/plain": [
       "<Table length=718311>\n",
       "     u-b           b-v          v-j     \n",
       "     uJy           uJy          uJy     \n",
       "   float32       float32      float32   \n",
       "------------- ------------- ------------\n",
       "  -0.08702052  -0.049143583    0.0530141\n",
       "-0.0033293627 0.00039516017 0.0069651976\n",
       "           --            --           --\n",
       "  -0.05480773   0.011418194   0.08849461\n",
       "-0.0011454299 0.00018713437  -0.04152225\n",
       " -0.020275231 -0.0030407794  0.012057971\n",
       "  -0.30450773     -0.167642  -0.28298223\n",
       "           --            --           --\n",
       "-0.0127569735 -0.0033649355  -0.07049074\n",
       "          ...           ...          ...\n",
       "           --            --           --\n",
       "  -0.36718744   -0.12194276   -1.2361462\n",
       "           --            --           --\n",
       "   -1.4907789     -2.566338   -11.537558\n",
       "           --            --           --\n",
       "           --            --           --\n",
       "           --            --           --\n",
       "           --            --           --\n",
       "           --            --           --"
      ]
     },
     "execution_count": 23,
     "metadata": {},
     "output_type": "execute_result"
    }
   ],
   "source": [
    "#compute colors\n",
    "searchfield['u-b'] = searchfield['ez_restU'] - searchfield['ez_restB']\n",
    "searchfield['b-v'] = searchfield['ez_restB'] - searchfield['ez_restV']\n",
    "searchfield['v-j'] = searchfield['ez_restV'] - searchfield['ez_restJ']\n",
    "\n",
    "colors = searchfield['u-b', 'b-v', 'v-j']\n",
    "colors"
   ]
  },
  {
   "cell_type": "code",
   "execution_count": 24,
   "id": "e7d2a634-3b03-452d-bbef-8d08af8bfadd",
   "metadata": {},
   "outputs": [
    {
     "data": {
      "text/html": [
       "<div><i>Table length=718311</i>\n",
       "<table id=\"table5059480208\" class=\"table-striped table-bordered table-condensed\">\n",
       "<thead><tr><th>u-b</th><th>b-v</th><th>v-j</th></tr></thead>\n",
       "<thead><tr><th>uJy</th><th>uJy</th><th>uJy</th></tr></thead>\n",
       "<thead><tr><th>float32</th><th>float32</th><th>float32</th></tr></thead>\n",
       "<tr><td>-0.08702052</td><td>-0.049143583</td><td>0.0530141</td></tr>\n",
       "<tr><td>-0.0033293627</td><td>0.00039516017</td><td>0.0069651976</td></tr>\n",
       "<tr><td>--</td><td>--</td><td>--</td></tr>\n",
       "<tr><td>-0.05480773</td><td>0.011418194</td><td>0.08849461</td></tr>\n",
       "<tr><td>-0.0011454299</td><td>0.00018713437</td><td>-0.04152225</td></tr>\n",
       "<tr><td>-0.020275231</td><td>-0.0030407794</td><td>0.012057971</td></tr>\n",
       "<tr><td>-0.30450773</td><td>-0.167642</td><td>-0.28298223</td></tr>\n",
       "<tr><td>--</td><td>--</td><td>--</td></tr>\n",
       "<tr><td>-0.0127569735</td><td>-0.0033649355</td><td>-0.07049074</td></tr>\n",
       "<tr><td>...</td><td>...</td><td>...</td></tr>\n",
       "<tr><td>--</td><td>--</td><td>--</td></tr>\n",
       "<tr><td>-0.36718744</td><td>-0.12194276</td><td>-1.2361462</td></tr>\n",
       "<tr><td>--</td><td>--</td><td>--</td></tr>\n",
       "<tr><td>-1.4907789</td><td>-2.566338</td><td>-11.537558</td></tr>\n",
       "<tr><td>--</td><td>--</td><td>--</td></tr>\n",
       "<tr><td>--</td><td>--</td><td>--</td></tr>\n",
       "<tr><td>--</td><td>--</td><td>--</td></tr>\n",
       "<tr><td>--</td><td>--</td><td>--</td></tr>\n",
       "<tr><td>--</td><td>--</td><td>--</td></tr>\n",
       "</table></div>"
      ],
      "text/plain": [
       "<Table length=718311>\n",
       "     u-b           b-v          v-j     \n",
       "     uJy           uJy          uJy     \n",
       "   float32       float32      float32   \n",
       "------------- ------------- ------------\n",
       "  -0.08702052  -0.049143583    0.0530141\n",
       "-0.0033293627 0.00039516017 0.0069651976\n",
       "           --            --           --\n",
       "  -0.05480773   0.011418194   0.08849461\n",
       "-0.0011454299 0.00018713437  -0.04152225\n",
       " -0.020275231 -0.0030407794  0.012057971\n",
       "  -0.30450773     -0.167642  -0.28298223\n",
       "           --            --           --\n",
       "-0.0127569735 -0.0033649355  -0.07049074\n",
       "          ...           ...          ...\n",
       "           --            --           --\n",
       "  -0.36718744   -0.12194276   -1.2361462\n",
       "           --            --           --\n",
       "   -1.4907789     -2.566338   -11.537558\n",
       "           --            --           --\n",
       "           --            --           --\n",
       "           --            --           --\n",
       "           --            --           --\n",
       "           --            --           --"
      ]
     },
     "execution_count": 24,
     "metadata": {},
     "output_type": "execute_result"
    }
   ],
   "source": [
    "#compute colors\n",
    "searchfield['u-b'] = searchfield['ez_restU'] - searchfield['ez_restB']\n",
    "searchfield['b-v'] = searchfield['ez_restB'] - searchfield['ez_restV']\n",
    "searchfield['v-j'] = searchfield['ez_restV'] - searchfield['ez_restJ']\n",
    "\n",
    "colors = searchfield['u-b', 'b-v', 'v-j']\n",
    "colors"
   ]
  },
  {
   "cell_type": "code",
   "execution_count": 25,
   "id": "69a4bdbd-80d7-4001-b5c4-bb5fb38539ce",
   "metadata": {},
   "outputs": [
    {
     "data": {
      "text/plain": [
       "<bound method DataFrame.sum of           u-b    b-v    v-j\n",
       "0       False  False  False\n",
       "1       False  False  False\n",
       "2        True   True   True\n",
       "3       False  False  False\n",
       "4       False  False  False\n",
       "...       ...    ...    ...\n",
       "718306   True   True   True\n",
       "718307   True   True   True\n",
       "718308   True   True   True\n",
       "718309   True   True   True\n",
       "718310   True   True   True\n",
       "\n",
       "[718311 rows x 3 columns]>"
      ]
     },
     "execution_count": 25,
     "metadata": {},
     "output_type": "execute_result"
    }
   ],
   "source": [
    "colors_pandas = colors.to_pandas()\n",
    "colors_pandas.isnull().sum"
   ]
  },
  {
   "cell_type": "code",
   "execution_count": 26,
   "id": "98bb57ea-84b3-4568-b4b2-00f5effcecf8",
   "metadata": {},
   "outputs": [],
   "source": [
    "#get rid of all nulls\n",
    "\n",
    "colors_clean_pandas = colors_pandas.dropna()\n",
    "#show resulting prepared data\n",
    "colors_clean = table.Table.from_pandas(colors_clean_pandas)"
   ]
  },
  {
   "cell_type": "code",
   "execution_count": 27,
   "id": "9753827f-223c-45e8-a9a0-6833cec26767",
   "metadata": {},
   "outputs": [
    {
     "data": {
      "text/plain": [
       "<bound method DataFrame.sum of           u-b    b-v    v-j\n",
       "0       False  False  False\n",
       "1       False  False  False\n",
       "3       False  False  False\n",
       "4       False  False  False\n",
       "5       False  False  False\n",
       "...       ...    ...    ...\n",
       "718298  False  False  False\n",
       "718299  False  False  False\n",
       "718300  False  False  False\n",
       "718303  False  False  False\n",
       "718305  False  False  False\n",
       "\n",
       "[643273 rows x 3 columns]>"
      ]
     },
     "execution_count": 27,
     "metadata": {},
     "output_type": "execute_result"
    }
   ],
   "source": [
    "# show null/nonnull state of the data\n",
    "colors_clean_pandas.isnull().sum"
   ]
  },
  {
   "cell_type": "code",
   "execution_count": 28,
   "id": "bc15d0a2-a76e-4770-9b42-fb5af4a144c3",
   "metadata": {},
   "outputs": [],
   "source": [
    "#kick pandas, keep numpy\n",
    "colors_clean_numpy = colors_clean_pandas.to_numpy()"
   ]
  },
  {
   "cell_type": "markdown",
   "id": "7d4c5979-1375-467d-8a09-cf20ad0dffc1",
   "metadata": {},
   "source": [
    "\n",
    "# Outlier detection with Local Outlier Factor (LOF)\n",
    "\n",
    "The Local Outlier Factor (LOF) algorithm is an unsupervised anomaly detection\n",
    "method which computes the local density deviation of a given data point with\n",
    "respect to its neighbors. It considers as outliers the samples that have a\n",
    "substantially lower density than their neighbors. This example shows how to use\n",
    "LOF for outlier detection which is the default use case of this estimator in\n",
    "scikit-learn. Note that when LOF is used for outlier detection it has no\n",
    "`predict`, `decision_function` and `score_samples` methods. See the `User\n",
    "Guide <outlier_detection>` for details on the difference between outlier\n",
    "detection and novelty detection and how to use LOF for novelty detection.\n",
    "\n",
    "The number of neighbors considered (parameter `n_neighbors`) is typically set 1)\n",
    "greater than the minimum number of samples a cluster has to contain, so that\n",
    "other samples can be local outliers relative to this cluster, and 2) smaller\n",
    "than the maximum number of close by samples that can potentially be local\n",
    "outliers. In practice, such information is generally not available, and taking\n",
    "`n_neighbors=20` appears to work well in general.\n"
   ]
  },
  {
   "cell_type": "code",
   "execution_count": 29,
   "id": "a40724e0-e8a1-402d-946e-f12a93c0ee20",
   "metadata": {},
   "outputs": [
    {
     "data": {
      "text/plain": [
       "array([-0.08702052, -0.00332936, -0.05480773, ..., -1.1527355 ,\n",
       "       -0.36718744, -1.4907789 ], dtype=float32)"
      ]
     },
     "execution_count": 29,
     "metadata": {},
     "output_type": "execute_result"
    }
   ],
   "source": [
    "u_b = colors_clean['u-b']\n",
    "np.array(u_b)\n"
   ]
  },
  {
   "cell_type": "code",
   "execution_count": 30,
   "id": "43235f7f-bcd2-4b70-b720-69bcb5e3073c",
   "metadata": {
    "collapsed": false,
    "jupyter": {
     "outputs_hidden": false
    }
   },
   "outputs": [
    {
     "name": "stdout",
     "output_type": "stream",
     "text": [
      "[[-8.7020516e-02 -4.9143583e-02  5.3014100e-02]\n",
      " [-3.3293627e-03  3.9516017e-04  6.9651976e-03]\n",
      " [-5.4807730e-02  1.1418194e-02  8.8494606e-02]\n",
      " ...\n",
      " [-1.1527355e+00 -9.0623188e-01 -1.9696164e+00]\n",
      " [-3.6718744e-01 -1.2194276e-01 -1.2361462e+00]\n",
      " [-1.4907789e+00 -2.5663381e+00 -1.1537558e+01]]\n",
      "the shape of data_to_analyze is, after computation: (643273, 3)\n"
     ]
    }
   ],
   "source": [
    "print(colors_clean_numpy)\n",
    "colors_clean_numpy.shape\n",
    "\n",
    "data_to_analyze = colors_clean_numpy\n",
    "\n",
    "print(\"the shape of data_to_analyze is, after computation:\", data_to_analyze.shape)\n",
    "#a bit broken\n",
    "n_outliers = len(data_to_analyze)\n",
    "ground_truth = np.ones(len(data_to_analyze), dtype=int)\n",
    "ground_truth[-n_outliers:] = -1"
   ]
  },
  {
   "cell_type": "markdown",
   "id": "97c15bdb-1905-40f2-bc36-b64579d2b385",
   "metadata": {},
   "source": [
    "## Fit the model for outlier detection (default)\n",
    "\n",
    "Use `fit_predict` to compute the predicted labels of the training samples\n",
    "(when LOF is used for outlier detection, the estimator has no `predict`,\n",
    "`decision_function` and `score_samples` methods).\n",
    "\n"
   ]
  },
  {
   "cell_type": "code",
   "execution_count": 31,
   "id": "6413fb2c-f861-4836-bc4b-753cd1552ed3",
   "metadata": {
    "collapsed": false,
    "jupyter": {
     "outputs_hidden": false
    }
   },
   "outputs": [],
   "source": [
    "from sklearn.neighbors import LocalOutlierFactor\n",
    "\n",
    "clf = LocalOutlierFactor(n_neighbors=20, contamination=0.1)\n",
    "y_pred = clf.fit_predict(colors_clean_numpy)\n",
    "n_errors = (y_pred != ground_truth).sum()\n",
    "data_to_analyze_scores = clf.negative_outlier_factor_"
   ]
  },
  {
   "cell_type": "markdown",
   "id": "748a3fe8-83ec-4854-9867-04717f6e1b86",
   "metadata": {},
   "source": [
    "## Plot results\n",
    "\n"
   ]
  },
  {
   "cell_type": "code",
   "execution_count": 32,
   "id": "0c0ef95e-6722-4d7a-9862-4ea45a75ef26",
   "metadata": {
    "collapsed": false,
    "jupyter": {
     "outputs_hidden": false
    }
   },
   "outputs": [
    {
     "name": "stderr",
     "output_type": "stream",
     "text": [
      "/opt/anaconda3/envs/COSMOS2024_gabesversion/lib/python3.11/site-packages/IPython/core/pylabtools.py:170: UserWarning: Creating legend with loc=\"best\" can be slow with large amounts of data.\n",
      "  fig.canvas.print_figure(bytes_io, **kw)\n"
     ]
    },
    {
     "data": {
      "image/png": "[encoded data removed]",
      "text/plain": [
       "<Figure size 640x480 with 1 Axes>"
      ]
     },
     "metadata": {},
     "output_type": "display_data"
    }
   ],
   "source": [
    "#a bit slow but who cares\n",
    "import matplotlib.pyplot as plt\n",
    "from matplotlib.legend_handler import HandlerPathCollection\n",
    "\n",
    "\n",
    "def update_legend_marker_size(handle, orig):\n",
    "    \"Customize size of the legend marker\"\n",
    "    handle.update_from(orig)\n",
    "    handle.set_sizes([20])\n",
    "\n",
    "\n",
    "plt.scatter(data_to_analyze[:, 0], data_to_analyze[:, 1], color=\"k\", s=3.0, label=\"Data points\")\n",
    "# plot circles with radius proportional to the outlier scores\n",
    "radius = (data_to_analyze_scores.max() - data_to_analyze_scores) / (data_to_analyze_scores.max() - data_to_analyze_scores.min())\n",
    "scatter = plt.scatter(\n",
    "    data_to_analyze[:, 0],\n",
    "    data_to_analyze[:, 1],\n",
    "    s=1000 * radius,\n",
    "    edgecolors=\"r\",\n",
    "    facecolors=\"none\",\n",
    "    label=\"Outlier scores\",\n",
    ")\n",
    "plt.axis(\"tight\")\n",
    "plt.xlim((-5, 5))\n",
    "plt.ylim((-5, 5))\n",
    "plt.xlabel(\"prediction errors: %d\" % (n_errors))\n",
    "plt.legend(\n",
    "    handler_map={scatter: HandlerPathCollection(update_func=update_legend_marker_size)}\n",
    ")\n",
    "plt.title(\"Local Outlier Factor (LOF)\")\n",
    "plt.show()"
   ]
  }
 ],
 "metadata": {
  "kernelspec": {
   "display_name": "Python 3 (ipykernel)",
   "language": "python",
   "name": "python3"
  },
  "language_info": {
   "codemirror_mode": {
    "name": "ipython",
    "version": 3
   },
   "file_extension": ".py",
   "mimetype": "text/x-python",
   "name": "python",
   "nbconvert_exporter": "python",
   "pygments_lexer": "ipython3",
   "version": "3.11.9"
  }
 },
 "nbformat": 4,
 "nbformat_minor": 5
}
